{
  "cells": [
    {
      "cell_type": "markdown",
      "metadata": {
        "id": "view-in-github",
        "colab_type": "text"
      },
      "source": [
        "<a href=\"https://colab.research.google.com/github/river6907/ML_2022/blob/main/NumPy.ipynb\" target=\"_parent\"><img src=\"https://colab.research.google.com/assets/colab-badge.svg\" alt=\"Open In Colab\"/></a>"
      ]
    },
    {
      "cell_type": "markdown",
      "metadata": {
        "id": "oR5hNBH-Retd"
      },
      "source": [
        "# NumPy\n",
        "\n",
        "* Numerical Python의 약자\n",
        "\n",
        "* 다양한 수학 연산과 다차원 데이터를 쉽게 다루기 위한 파이썬 라이브러리\n",
        "\n",
        "* Numpy는 ndarray라고 하는 특별한 객체를 사용\n",
        "    + 리스트와 달리 고정된 크기를 갖음\n",
        "    + 같은 타입의 데이터만 저장 가능\n",
        "\n",
        "* ndarray는 python 리스트에서 지원하지 않는 다양한 기능들을 지원\n",
        "    + 효율적으로 코드 작성 가능\n",
        "    + 더 빠른 속도"
      ]
    },
    {
      "cell_type": "code",
      "execution_count": null,
      "metadata": {
        "colab": {
          "base_uri": "https://localhost:8080/"
        },
        "id": "nvackTLRjckL",
        "outputId": "ffd37943-a3d1-4768-b452-131edbe373fa"
      },
      "outputs": [
        {
          "output_type": "stream",
          "name": "stdout",
          "text": [
            "Requirement already satisfied: numpy in /usr/local/lib/python3.7/dist-packages (1.21.5)\n"
          ]
        }
      ],
      "source": [
        "!pip install numpy"
      ]
    },
    {
      "cell_type": "code",
      "execution_count": null,
      "metadata": {
        "colab": {
          "base_uri": "https://localhost:8080/",
          "height": 35
        },
        "id": "R9klTdhLQ564",
        "outputId": "d859c393-cec4-408e-9e07-ba446168934f"
      },
      "outputs": [
        {
          "output_type": "execute_result",
          "data": {
            "text/plain": [
              "'1.21.5'"
            ],
            "application/vnd.google.colaboratory.intrinsic+json": {
              "type": "string"
            }
          },
          "metadata": {},
          "execution_count": 2
        }
      ],
      "source": [
        "import numpy as np\n",
        "np.__version__"
      ]
    },
    {
      "cell_type": "markdown",
      "metadata": {
        "id": "2hSWC5ptGyWP"
      },
      "source": [
        "\n",
        "\n",
        "---\n",
        "\n"
      ]
    },
    {
      "cell_type": "markdown",
      "metadata": {
        "id": "1kgkJZFlVUqk"
      },
      "source": [
        "# 배열 생성"
      ]
    },
    {
      "cell_type": "markdown",
      "metadata": {
        "id": "5eQ4sAkMbzm0"
      },
      "source": [
        "## 리스트로 배열 만들기\n",
        "![1.2 Array.png](https://drive.google.com/uc?id=1EKPVGuDQinETf6XkcKFYaQfqp5P2oklE)"
      ]
    },
    {
      "cell_type": "code",
      "execution_count": null,
      "metadata": {
        "colab": {
          "base_uri": "https://localhost:8080/"
        },
        "id": "Mtod2jcPWVvV",
        "outputId": "7cbe1f16-636c-44df-a8ec-987e55b36fc5"
      },
      "outputs": [
        {
          "output_type": "stream",
          "name": "stdout",
          "text": [
            "[1 2 3 4 5]\n",
            "<class 'numpy.ndarray'>\n",
            "(5,)\n",
            "1 2 3\n"
          ]
        }
      ],
      "source": [
        "a1= np.array([1,2,3,4,5])\n",
        "print(a1)\n",
        "print(type(a1))\n",
        "print(a1.shape)\n",
        "print(a1[0],a1[1],a1[2])"
      ]
    },
    {
      "cell_type": "code",
      "execution_count": null,
      "metadata": {
        "colab": {
          "base_uri": "https://localhost:8080/"
        },
        "id": "vp9tkHH8esXT",
        "outputId": "76589904-6a59-4afb-8883-ae25c245cfc4"
      },
      "outputs": [
        {
          "output_type": "stream",
          "name": "stdout",
          "text": [
            "[[1 2 3]\n",
            " [4 5 6]]\n",
            "(2, 3)\n",
            "1 5\n"
          ]
        }
      ],
      "source": [
        "a2=np.array([[1,2,3],[4,5,6]])\n",
        "print(a2)\n",
        "print(a2.shape)\n",
        "print(a2[0,0],a2[1,1])"
      ]
    },
    {
      "cell_type": "code",
      "execution_count": null,
      "metadata": {
        "colab": {
          "base_uri": "https://localhost:8080/"
        },
        "id": "Baj4gZ2meuJu",
        "outputId": "ce12ef00-a58d-4e22-f7e2-cf9794a91d29"
      },
      "outputs": [
        {
          "output_type": "stream",
          "name": "stdout",
          "text": [
            "[[[1 2 3 4]\n",
            "  [4 5 6 7]\n",
            "  [9 0 1 2]]\n",
            "\n",
            " [[3 4 5 6]\n",
            "  [7 8 9 0]\n",
            "  [1 2 3 4]]]\n",
            "(2, 3, 4)\n"
          ]
        }
      ],
      "source": [
        "a3=np.array([[[1,2,3,4],[4,5,6,7],[9,0,1,2]],\n",
        "             [[3,4,5,6],[7,8,9,0],[1,2,3,4]]])\n",
        "print(a3)\n",
        "print(a3.shape)\n"
      ]
    },
    {
      "cell_type": "markdown",
      "metadata": {
        "id": "PNkKtw4CoSDB"
      },
      "source": [
        "## 배열 생성 및 초기화"
      ]
    },
    {
      "cell_type": "markdown",
      "metadata": {
        "id": "mJVii5p_VfgM"
      },
      "source": [
        "* `zeros()`: 모든 요소를 0으로 초기화"
      ]
    },
    {
      "cell_type": "code",
      "execution_count": null,
      "metadata": {
        "colab": {
          "base_uri": "https://localhost:8080/"
        },
        "id": "W_SF1tVoVTf1",
        "outputId": "c4d59016-c0ad-4999-d86d-e9458897a86c"
      },
      "outputs": [
        {
          "output_type": "execute_result",
          "data": {
            "text/plain": [
              "array([0., 0., 0., 0., 0., 0., 0., 0., 0., 0.])"
            ]
          },
          "metadata": {},
          "execution_count": 10
        }
      ],
      "source": [
        "np.zeros(10)"
      ]
    },
    {
      "cell_type": "markdown",
      "metadata": {
        "id": "LjYFQrODVqhX"
      },
      "source": [
        "* `ones()`: 모든 요소를 1로 초기화"
      ]
    },
    {
      "cell_type": "code",
      "execution_count": null,
      "metadata": {
        "colab": {
          "base_uri": "https://localhost:8080/"
        },
        "id": "MURoqsMsVeUw",
        "outputId": "df0d88df-aaa3-4425-bf27-575b26dbc993"
      },
      "outputs": [
        {
          "output_type": "execute_result",
          "data": {
            "text/plain": [
              "array([[1., 1., 1.],\n",
              "       [1., 1., 1.]])"
            ]
          },
          "metadata": {},
          "execution_count": 12
        }
      ],
      "source": [
        "np.ones((2,3 ))"
      ]
    },
    {
      "cell_type": "markdown",
      "metadata": {
        "id": "jnmm3Cj-cGtx"
      },
      "source": [
        "* `full()`: 모든 요소를 지정한 값으로 초기화"
      ]
    },
    {
      "cell_type": "code",
      "execution_count": null,
      "metadata": {
        "colab": {
          "base_uri": "https://localhost:8080/"
        },
        "id": "oscabrdcV7Ny",
        "outputId": "53ec7ab6-fb56-4539-82b2-4373097b5ca2"
      },
      "outputs": [
        {
          "output_type": "execute_result",
          "data": {
            "text/plain": [
              "array([[1.23, 1.23, 1.23],\n",
              "       [1.23, 1.23, 1.23]])"
            ]
          },
          "metadata": {},
          "execution_count": 13
        }
      ],
      "source": [
        "np.full((2,3),1.23)"
      ]
    },
    {
      "cell_type": "markdown",
      "metadata": {
        "id": "0SRI4jbmlIKc"
      },
      "source": [
        "* `eye()`: 단위행렬(identity matrix) 생성\n",
        "  + 주대각선의 원소가 모두 1이고 나머지 원소는 모두 0인 정사각 행렬"
      ]
    },
    {
      "cell_type": "code",
      "execution_count": null,
      "metadata": {
        "colab": {
          "base_uri": "https://localhost:8080/"
        },
        "id": "VceBVLLjk9o5",
        "outputId": "1383d16f-28fd-4fbd-9713-4a75cb8d2e35"
      },
      "outputs": [
        {
          "output_type": "execute_result",
          "data": {
            "text/plain": [
              "array([[1., 0., 0.],\n",
              "       [0., 1., 0.],\n",
              "       [0., 0., 1.]])"
            ]
          },
          "metadata": {},
          "execution_count": 16
        }
      ],
      "source": [
        "np.eye(3)"
      ]
    },
    {
      "cell_type": "markdown",
      "metadata": {
        "id": "7CCH1ZMT5R02"
      },
      "source": [
        "* `tri()`: 삼각행렬 생성"
      ]
    },
    {
      "cell_type": "code",
      "execution_count": null,
      "metadata": {
        "colab": {
          "base_uri": "https://localhost:8080/"
        },
        "id": "mLe2Bhj05VYu",
        "outputId": "1130bf6e-57e2-4a9a-864c-813694b0352d"
      },
      "outputs": [
        {
          "output_type": "execute_result",
          "data": {
            "text/plain": [
              "array([[1., 0., 0., 0.],\n",
              "       [1., 1., 0., 0.],\n",
              "       [1., 1., 1., 0.],\n",
              "       [1., 1., 1., 1.]])"
            ]
          },
          "metadata": {},
          "execution_count": 18
        }
      ],
      "source": [
        "np.tri(4)"
      ]
    },
    {
      "cell_type": "markdown",
      "metadata": {
        "id": "ObZRA4HclZlO"
      },
      "source": [
        "* `empty()`: 초기화되지 않은 배열 생성\n",
        "  + 초기화가 없어서 배열 생성비용 저렴하고 빠름\n",
        "  + 초기화되지 않아서 기존 메모리 위치에 존재하는 값이 있음"
      ]
    },
    {
      "cell_type": "code",
      "execution_count": null,
      "metadata": {
        "colab": {
          "base_uri": "https://localhost:8080/"
        },
        "id": "I3SoFgiglAkz",
        "outputId": "a2f001b7-9bbf-4dd6-9048-6a98e0575ed1"
      },
      "outputs": [
        {
          "output_type": "execute_result",
          "data": {
            "text/plain": [
              "array([1., 1., 1., 1., 1., 1., 1., 1., 1., 1.])"
            ]
          },
          "metadata": {},
          "execution_count": 29
        }
      ],
      "source": [
        "np.empty(10)"
      ]
    },
    {
      "cell_type": "markdown",
      "metadata": {
        "id": "p3uSl1Ccmi5_"
      },
      "source": [
        "* `_like()`: 지정된 배열과 shape가 같은 행렬 생성\n",
        "  + `np.zeros_like()`\n",
        "  + `np.ones_like()`\n",
        "  + `np.full_like()`\n",
        "  + `np.empty_like()`"
      ]
    },
    {
      "cell_type": "code",
      "execution_count": null,
      "metadata": {
        "colab": {
          "base_uri": "https://localhost:8080/"
        },
        "id": "Ad5RskRRlZLs",
        "outputId": "6c1f13f3-52d7-486b-d01c-cf723abac32c"
      },
      "outputs": [
        {
          "output_type": "execute_result",
          "data": {
            "text/plain": [
              "array([[0, 0, 0],\n",
              "       [0, 0, 0]])"
            ]
          },
          "metadata": {},
          "execution_count": 31
        }
      ],
      "source": [
        "np.zeros_like(a2)"
      ]
    },
    {
      "cell_type": "code",
      "execution_count": null,
      "metadata": {
        "colab": {
          "base_uri": "https://localhost:8080/"
        },
        "id": "KChUHsG003Nf",
        "outputId": "0a082b1e-9514-47d4-af6f-3c01d54cd07f"
      },
      "outputs": [
        {
          "output_type": "execute_result",
          "data": {
            "text/plain": [
              "array([[[1, 1, 1, 1],\n",
              "        [1, 1, 1, 1],\n",
              "        [1, 1, 1, 1]],\n",
              "\n",
              "       [[1, 1, 1, 1],\n",
              "        [1, 1, 1, 1],\n",
              "        [1, 1, 1, 1]]])"
            ]
          },
          "metadata": {},
          "execution_count": 32
        }
      ],
      "source": [
        "np.ones_like(a3)"
      ]
    },
    {
      "cell_type": "code",
      "execution_count": null,
      "metadata": {
        "colab": {
          "base_uri": "https://localhost:8080/"
        },
        "id": "PUnDz6b305Gg",
        "outputId": "684b6c3c-695c-4d68-c9ad-86206bb7006e"
      },
      "outputs": [
        {
          "output_type": "execute_result",
          "data": {
            "text/plain": [
              "array([[[10, 10, 10, 10],\n",
              "        [10, 10, 10, 10],\n",
              "        [10, 10, 10, 10]],\n",
              "\n",
              "       [[10, 10, 10, 10],\n",
              "        [10, 10, 10, 10],\n",
              "        [10, 10, 10, 10]]])"
            ]
          },
          "metadata": {},
          "execution_count": 35
        }
      ],
      "source": [
        "np.full_like(a3,10)"
      ]
    },
    {
      "cell_type": "markdown",
      "metadata": {
        "id": "apoksGJNrn1z"
      },
      "source": [
        "## 생성한 값으로 배열 생성"
      ]
    },
    {
      "cell_type": "markdown",
      "metadata": {
        "id": "H3nmLct8cnV8"
      },
      "source": [
        "* `arange()`: 정수 범위로 배열 생성"
      ]
    },
    {
      "cell_type": "markdown",
      "source": [
        ""
      ],
      "metadata": {
        "id": "kH1RDS_aovKe"
      }
    },
    {
      "cell_type": "code",
      "execution_count": null,
      "metadata": {
        "colab": {
          "base_uri": "https://localhost:8080/"
        },
        "id": "mANy4WY4cDKa",
        "outputId": "313e172d-a7ed-4c93-c270-1136e2786a32"
      },
      "outputs": [
        {
          "output_type": "execute_result",
          "data": {
            "text/plain": [
              "array([ 0,  2,  4,  6,  8, 10, 12, 14, 16, 18, 20, 22, 24, 26, 28])"
            ]
          },
          "metadata": {},
          "execution_count": 41
        }
      ],
      "source": [
        "np.arange(0,30,2) #for문과 비슷한.."
      ]
    },
    {
      "cell_type": "markdown",
      "metadata": {
        "id": "s5kET1e6itlo"
      },
      "source": [
        "* `linspace()`: 범위 내에서 균등 간격의 배열 생성"
      ]
    },
    {
      "cell_type": "code",
      "execution_count": null,
      "metadata": {
        "colab": {
          "base_uri": "https://localhost:8080/"
        },
        "id": "u4q9gI7Zcltz",
        "outputId": "d1d92170-3098-42af-84e4-3137fd2627a6"
      },
      "outputs": [
        {
          "output_type": "execute_result",
          "data": {
            "text/plain": [
              "array([ 0. ,  2.5,  5. ,  7.5, 10. ])"
            ]
          },
          "metadata": {},
          "execution_count": 47
        }
      ],
      "source": [
        "np.linspace(0,10,5)"
      ]
    },
    {
      "cell_type": "markdown",
      "metadata": {
        "id": "6_88s4_Jr7fO"
      },
      "source": [
        "## 랜덤값으로 배열 생성\n",
        "\n",
        "| 함수 | 설명 |\n",
        "|------|------|\n",
        "| `seed` | 난수 발생을 위한 시드(seed) 지정 |\n",
        "| `permutation` | 순서를 임의로 바꾸거나 임의의 순열 반환 |\n",
        "| `shuffle` | 리스트나 배열의 순서를 뒤섞음 |\n",
        "| `random` | 랜덤한 수의 배열 생성 |\n",
        "| `rand` | 균등분포에서 표본 추출 |\n",
        "| `randint` | 주어진 최소/최대 범위의 난수 추출 |\n",
        "| `randn` | 표준편차가 1, 평균값 0인 정규분포의 표본 추출 |\n",
        "| `binomial` | 이항분포에서 표본 추출 |\n",
        "| `normal` | 정규분포(가우시안)에서 표본 추출 |\n",
        "| `beta` | 베타분포에서 표본 추출 |\n",
        "| `chisquare` | 카이제곱분포에서 표본 추출 |\n",
        "| `gamma` | 감마분포에서 표본 추출 |\n",
        "| `uniform` | 균등(0, 1)분포에서 표본 추출 |"
      ]
    },
    {
      "cell_type": "markdown",
      "metadata": {
        "id": "CoK1cVUkjNMg"
      },
      "source": [
        "* `random.random()`: 랜덤한 수의 배열 생성"
      ]
    },
    {
      "cell_type": "code",
      "execution_count": null,
      "metadata": {
        "colab": {
          "base_uri": "https://localhost:8080/"
        },
        "id": "qJwccKEnjMze",
        "outputId": "b69584a1-aeeb-4084-e0d3-051554bfe719"
      },
      "outputs": [
        {
          "output_type": "execute_result",
          "data": {
            "text/plain": [
              "array([[0.99800547, 0.04814148, 0.51962056],\n",
              "       [0.66203499, 0.08143415, 0.40164672],\n",
              "       [0.79067189, 0.97424004, 0.86239846]])"
            ]
          },
          "metadata": {},
          "execution_count": 50
        }
      ],
      "source": [
        "np.random.random((3,3))"
      ]
    },
    {
      "cell_type": "markdown",
      "metadata": {
        "id": "BYsAVwA1kvDI"
      },
      "source": [
        "* `random.randint()`: 일정 구간의 랜덤 정수의 배열 생성"
      ]
    },
    {
      "cell_type": "code",
      "execution_count": null,
      "metadata": {
        "colab": {
          "base_uri": "https://localhost:8080/"
        },
        "id": "oR-UszZ_jqfQ",
        "outputId": "61d40343-118b-44fc-a3c7-816ba15e0791"
      },
      "outputs": [
        {
          "output_type": "execute_result",
          "data": {
            "text/plain": [
              "array([[5, 8, 7],\n",
              "       [6, 2, 3],\n",
              "       [5, 9, 8]])"
            ]
          },
          "metadata": {},
          "execution_count": 53
        }
      ],
      "source": [
        "np.random.randint(0,10,(3,3))"
      ]
    },
    {
      "cell_type": "markdown",
      "metadata": {
        "id": "2r557WHsjrL3"
      },
      "source": [
        "* `random.normal()`: 정규분포(normal distribution)를 고려한 랜덤한 수의 배열 생성\n",
        "* 평균=0, 표준편차=1, 3 x 3 배열"
      ]
    },
    {
      "cell_type": "code",
      "execution_count": null,
      "metadata": {
        "colab": {
          "base_uri": "https://localhost:8080/"
        },
        "id": "Oan3bSpHi2Wq",
        "outputId": "487231bc-dfa7-4dbc-eb79-6d890f278663"
      },
      "outputs": [
        {
          "output_type": "execute_result",
          "data": {
            "text/plain": [
              "array([[-2.40072906, -0.22866107,  0.30432835],\n",
              "       [ 0.4996866 ,  0.46793609,  0.13552753],\n",
              "       [-1.52981229, -1.60732501, -1.25475385]])"
            ]
          },
          "metadata": {},
          "execution_count": 55
        }
      ],
      "source": [
        "np.random.normal(0,1,(3,3))"
      ]
    },
    {
      "cell_type": "markdown",
      "metadata": {
        "id": "fPO-D1rHsrFw"
      },
      "source": [
        "* `random.rand()`: 균등분포(uniform distribution)를 고려한 랜덤한 수의 배열 생성"
      ]
    },
    {
      "cell_type": "code",
      "execution_count": null,
      "metadata": {
        "colab": {
          "base_uri": "https://localhost:8080/"
        },
        "id": "DxiyEjnXnDUT",
        "outputId": "fe809e45-8897-45bd-cf21-e83adef63fd0"
      },
      "outputs": [
        {
          "output_type": "execute_result",
          "data": {
            "text/plain": [
              "array([[0.63642917, 0.79143384, 0.30739225],\n",
              "       [0.49525183, 0.57009459, 0.56050884],\n",
              "       [0.06826578, 0.04973429, 0.3791619 ]])"
            ]
          },
          "metadata": {},
          "execution_count": 56
        }
      ],
      "source": [
        "np.random.rand(3,3)"
      ]
    },
    {
      "cell_type": "markdown",
      "metadata": {
        "id": "IegH2dsPLQgd"
      },
      "source": [
        "* `random.randn()`: 표준 정규 분포(standard normal distribution)를 고려한 랜덤한 수의 배열 생성"
      ]
    },
    {
      "cell_type": "code",
      "execution_count": null,
      "metadata": {
        "colab": {
          "base_uri": "https://localhost:8080/"
        },
        "id": "V61VHa-JLIma",
        "outputId": "7452e694-a254-448e-afa8-e51c4db65c90"
      },
      "outputs": [
        {
          "output_type": "execute_result",
          "data": {
            "text/plain": [
              "array([[-0.14463607, -1.19123128, -1.14016477],\n",
              "       [ 0.13722104, -1.48392894, -0.69807053],\n",
              "       [-0.63324164,  0.33729038, -0.3814544 ]])"
            ]
          },
          "metadata": {},
          "execution_count": 57
        }
      ],
      "source": [
        "np.random.randn(3,3)"
      ]
    },
    {
      "cell_type": "markdown",
      "metadata": {
        "id": "kjT_3yv6jckU"
      },
      "source": [
        "## 표준 데이터 타입\n",
        "\n",
        "| 데이터 타입\t    | 설명 |\n",
        "|---------------|-------------|\n",
        "| ``bool_``     | 바이트로 저장된 불리언(Boolean)으로 True 또는 False 값을 가짐 |\n",
        "| ``int_``      | 기본 정수(Integer) 타입 | \n",
        "| ``intc``      | C 언어에서 사용되는 ``int``와 동일 (일반적으로 ``int32`` 또는 ``int64``) | \n",
        "| ``intp``      | 인덱싱에 사용되는 정수 (C 언어에서 ``ssize_t``와 동일; 일반적으로 ``int32`` 또는 ``int64``) | \n",
        "| ``int8``      | 바이트(Byte) (-128 ~ 127) | \n",
        "| ``int16``     | 정수 (-32768 ~ 32767) |\n",
        "| ``int32``     | 정수 (-2147483648 ~ 2147483647) |\n",
        "| ``int64``     | 정수(-9223372036854775808 ~ 9223372036854775807) | \n",
        "| ``uint8``     | 부호 없는 정수 (0 ~ 255) | \n",
        "| ``uint16``    | 부호 없는 정수 (0 ~ 65535) | \n",
        "| ``uint32``    | 부호 없는 정수 (0 ~ 4294967295) | \n",
        "| ``uint64``    | 부호 없는 정수 (0 ~ 18446744073709551615) |  \n",
        "| ``float16``   | 반정밀 부동 소수점(Half precision float): 부호 비트, 5비트 지수, 10비트 가수 | \n",
        "| ``float32``   | 단정밀 부동 소수점(Single precision float): 부호 비트, 8비트 지수, 23비트 가수| \n",
        "| ``float64``   | 배정밀 부동 소수점(Double precision float): 부호 비트, 11비트 지수, 52비트 가수 |\n",
        "| ``float_``    | ``float64``를 줄여서 표현 |\n",
        "| ``complex64`` | 복소수(Complex number), 두 개의 32비트 부동 소수점으로 표현 | \n",
        "| ``complex128``| 복소수, 두 개의 64비트 부동 소수점으로 표현| \n",
        "| ``complex_``  | ``complex128``를 줄여서 표현 | "
      ]
    },
    {
      "cell_type": "code",
      "execution_count": null,
      "metadata": {
        "colab": {
          "base_uri": "https://localhost:8080/"
        },
        "id": "N6flREC-jckU",
        "outputId": "8159c031-19c5-43b3-b38c-c1986337019a"
      },
      "outputs": [
        {
          "output_type": "execute_result",
          "data": {
            "text/plain": [
              "array([0, 0, 0, 0, 0, 0, 0, 0, 0, 0, 0, 0, 0, 0, 0, 0, 0, 0, 0, 0])"
            ]
          },
          "metadata": {},
          "execution_count": 59
        }
      ],
      "source": [
        "np.zeros(20,dtype=int)"
      ]
    },
    {
      "cell_type": "code",
      "execution_count": null,
      "metadata": {
        "colab": {
          "base_uri": "https://localhost:8080/"
        },
        "id": "DyO7f03BjckU",
        "outputId": "25f92089-3f27-4afc-86ea-3b1635884a09"
      },
      "outputs": [
        {
          "output_type": "execute_result",
          "data": {
            "text/plain": [
              "array([ True,  True,  True,  True,  True,  True,  True,  True,  True,\n",
              "        True,  True,  True,  True,  True,  True,  True,  True,  True,\n",
              "        True,  True])"
            ]
          },
          "metadata": {},
          "execution_count": 60
        }
      ],
      "source": [
        "np.ones(20,dtype=bool)"
      ]
    },
    {
      "cell_type": "code",
      "execution_count": null,
      "metadata": {
        "colab": {
          "base_uri": "https://localhost:8080/"
        },
        "id": "QF3PjjP0jckU",
        "outputId": "237cd885-3d18-46cb-bf32-6a82a7a54a45"
      },
      "outputs": [
        {
          "output_type": "execute_result",
          "data": {
            "text/plain": [
              "array([[1., 1., 1.],\n",
              "       [1., 1., 1.],\n",
              "       [1., 1., 1.]])"
            ]
          },
          "metadata": {},
          "execution_count": 61
        }
      ],
      "source": [
        "np.full((3,3),1,dtype=float)"
      ]
    },
    {
      "cell_type": "markdown",
      "metadata": {
        "id": "5AREIamhGxAr"
      },
      "source": [
        "\n",
        "\n",
        "---\n",
        "\n"
      ]
    },
    {
      "cell_type": "markdown",
      "metadata": {
        "id": "d88tkTqbBE5V"
      },
      "source": [
        "# 배열 조회"
      ]
    },
    {
      "cell_type": "markdown",
      "metadata": {
        "id": "vRqwfbjtFnPn"
      },
      "source": [
        "## 배열 속성 정보"
      ]
    },
    {
      "cell_type": "code",
      "execution_count": null,
      "metadata": {
        "id": "R5Rlcll7GXrM"
      },
      "outputs": [],
      "source": [
        "def array_info(array):\n",
        "  print(array)\n",
        "  print('ndim:',array.ndim)#차원 속성\n",
        "  print('shape:',array.shape)#모양\n",
        "  print('dtype:',array.dtype)#데이터 타입\n",
        "  print('size:',array.size)  # 요소 수\n",
        "  print('itemsize:',array.itemsize) #요소의 크기, 바이트 수\n",
        "  print('nbytes:',array.nbytes)  #메모리 사이즈\n",
        "  print('strides:',array.strides)#차원끼리의 간격\n",
        "  "
      ]
    },
    {
      "cell_type": "code",
      "execution_count": null,
      "metadata": {
        "colab": {
          "base_uri": "https://localhost:8080/"
        },
        "id": "Na59LwA7KXZV",
        "outputId": "9c8bbb6a-c461-4561-b7cc-5a1c27d5ddd2"
      },
      "outputs": [
        {
          "output_type": "stream",
          "name": "stdout",
          "text": [
            "[1 2 3 4 5]\n",
            "ndim: 1\n",
            "shape: (5,)\n",
            "dtype: int64\n",
            "size: 5\n",
            "itemsize: 8\n",
            "nbytes: 40\n",
            "strides: (8,)\n"
          ]
        }
      ],
      "source": [
        "array_info(a1)"
      ]
    },
    {
      "cell_type": "code",
      "execution_count": null,
      "metadata": {
        "colab": {
          "base_uri": "https://localhost:8080/"
        },
        "id": "Urzr_LsdLah0",
        "outputId": "14c01e06-d38e-419e-cbb1-99908c5d4655"
      },
      "outputs": [
        {
          "output_type": "stream",
          "name": "stdout",
          "text": [
            "[[1 2 3]\n",
            " [4 5 6]]\n",
            "ndim: 2\n",
            "shape: (2, 3)\n",
            "dtype: int64\n",
            "size: 6\n",
            "itemsize: 8\n",
            "nbytes: 48\n",
            "strides: (24, 8)\n"
          ]
        }
      ],
      "source": [
        "array_info(a2)"
      ]
    },
    {
      "cell_type": "code",
      "execution_count": null,
      "metadata": {
        "colab": {
          "base_uri": "https://localhost:8080/"
        },
        "id": "jktqh1lsLf4V",
        "outputId": "8480f3b0-6d4c-4536-b163-10f0ab967911"
      },
      "outputs": [
        {
          "output_type": "stream",
          "name": "stdout",
          "text": [
            "[[[1 2 3 4]\n",
            "  [4 5 6 7]\n",
            "  [9 0 1 2]]\n",
            "\n",
            " [[3 4 5 6]\n",
            "  [7 8 9 0]\n",
            "  [1 2 3 4]]]\n",
            "ndim: 3\n",
            "shape: (2, 3, 4)\n",
            "dtype: int64\n",
            "size: 24\n",
            "itemsize: 8\n",
            "nbytes: 192\n",
            "strides: (96, 32, 8)\n"
          ]
        }
      ],
      "source": [
        "array_info(a3)"
      ]
    },
    {
      "cell_type": "markdown",
      "metadata": {
        "id": "LV1WfdBWFqDu"
      },
      "source": [
        "## 인덱싱(Indexing)"
      ]
    },
    {
      "cell_type": "code",
      "execution_count": null,
      "metadata": {
        "colab": {
          "base_uri": "https://localhost:8080/"
        },
        "id": "Nyb7eDmGFr5m",
        "outputId": "bc3b66ce-eae7-4fa7-f2a2-ffe3634ffad5"
      },
      "outputs": [
        {
          "output_type": "stream",
          "name": "stdout",
          "text": [
            "[1 2 3 4 5]\n",
            "1\n",
            "3\n",
            "5\n"
          ]
        }
      ],
      "source": [
        "print(a1)\n",
        "print(a1[0])\n",
        "print(a1[2])\n",
        "print(a1[-1])"
      ]
    },
    {
      "cell_type": "code",
      "execution_count": null,
      "metadata": {
        "colab": {
          "base_uri": "https://localhost:8080/"
        },
        "id": "uHMNcQW3Kn-h",
        "outputId": "0d66f107-c4c3-40b5-a34c-3ecf1b4ab8a0"
      },
      "outputs": [
        {
          "output_type": "stream",
          "name": "stdout",
          "text": [
            "[[1 2 3]\n",
            " [4 5 6]]\n",
            "2\n",
            "3\n",
            "6\n"
          ]
        }
      ],
      "source": [
        "print(a2)\n",
        "print(a2[0,1])\n",
        "print(a2[0,2])\n",
        "print(a2[1,-1])"
      ]
    },
    {
      "cell_type": "code",
      "execution_count": null,
      "metadata": {
        "colab": {
          "base_uri": "https://localhost:8080/"
        },
        "id": "IX5yDMGiMxYZ",
        "outputId": "e95fca6a-b036-41c0-e8fb-0787d6f79feb"
      },
      "outputs": [
        {
          "output_type": "stream",
          "name": "stdout",
          "text": [
            "[[[1 2 3 4]\n",
            "  [4 5 6 7]\n",
            "  [9 0 1 2]]\n",
            "\n",
            " [[3 4 5 6]\n",
            "  [7 8 9 0]\n",
            "  [1 2 3 4]]]\n",
            "2\n",
            "2\n"
          ]
        }
      ],
      "source": [
        "print(a3)\n",
        "print(a3[0,2,3])\n",
        "print(a3[0,-1,-1])"
      ]
    },
    {
      "cell_type": "markdown",
      "metadata": {
        "id": "uSeXu2y_O4cu"
      },
      "source": [
        "## 슬라이싱(Slicing)"
      ]
    },
    {
      "cell_type": "markdown",
      "metadata": {
        "id": "1hikO_6ZPp5m"
      },
      "source": [
        "* 슬라이싱 구문: `a[start:stop:step]`\n",
        "* 기본값: start=0, stop=ndim, step=1"
      ]
    },
    {
      "cell_type": "code",
      "execution_count": null,
      "metadata": {
        "colab": {
          "base_uri": "https://localhost:8080/"
        },
        "id": "PYZOOCoVO7BF",
        "outputId": "838d85a2-2bff-447f-f69e-73d21ec84325"
      },
      "outputs": [
        {
          "output_type": "stream",
          "name": "stdout",
          "text": [
            "[1 2 3 4 5]\n",
            "[1 2]\n",
            "[2 3 4 5]\n",
            "[1 2 3]\n",
            "[1 3 5]\n",
            "[5 4 3 2 1]\n"
          ]
        }
      ],
      "source": [
        "print(a1)\n",
        "print(a1[0:2])\n",
        "print(a1[1:])\n",
        "print(a1[:3])\n",
        "print(a1[::2])\n",
        "print(a1[::-1])"
      ]
    },
    {
      "cell_type": "code",
      "execution_count": null,
      "metadata": {
        "colab": {
          "base_uri": "https://localhost:8080/"
        },
        "id": "oULOFrBQWs1G",
        "outputId": "ae83a0b0-7e77-4eda-d16d-bab9e4cb481b"
      },
      "outputs": [
        {
          "output_type": "stream",
          "name": "stdout",
          "text": [
            "[[1 2 3]\n",
            " [4 5 6]]\n",
            "[4 5 6]\n",
            "[4 5 6]\n",
            "[[1 2]]\n",
            "[[6 5 4]]\n",
            "[[4 5 6]\n",
            " [1 2 3]]\n",
            "[[6 5 4]\n",
            " [3 2 1]]\n"
          ]
        }
      ],
      "source": [
        "print(a2)\n",
        "print(a2[1])\n",
        "print(a2[1,:])\n",
        "print(a2[:1,:2])\n",
        "print(a2[1:,::-1])\n",
        "print(a2[::-1,::1])\n",
        "print(a2[::-1,::-1])\n"
      ]
    },
    {
      "cell_type": "markdown",
      "metadata": {
        "id": "LD52bXAsBgbH"
      },
      "source": [
        "## 불리언 인덱싱(Boolean Indexing)\n",
        "\n",
        "* 배열 각 요소의 선택 여부를 불리언(True or False)로 지정\n",
        "* True 값인 인덱스의 값만 조회"
      ]
    },
    {
      "cell_type": "code",
      "execution_count": null,
      "metadata": {
        "colab": {
          "base_uri": "https://localhost:8080/"
        },
        "id": "pOvNsH2oBgz-",
        "outputId": "0ca50445-9bf8-40f4-b5a5-972664f9c044"
      },
      "outputs": [
        {
          "output_type": "stream",
          "name": "stdout",
          "text": [
            "[1 2 3 4 5]\n",
            "[2 3 5]\n",
            "[1 3 4]\n"
          ]
        }
      ],
      "source": [
        "print(a1)\n",
        "bi=[False,True,True,False,True]\n",
        "print(a1[bi])\n",
        "bi = [True,False,True,True,False]\n",
        "print(a1[bi])"
      ]
    },
    {
      "cell_type": "code",
      "execution_count": null,
      "metadata": {
        "colab": {
          "base_uri": "https://localhost:8080/"
        },
        "id": "EFfquM2kWHAU",
        "outputId": "e801e909-dc78-4559-f623-e74005dc0512"
      },
      "outputs": [
        {
          "output_type": "stream",
          "name": "stdout",
          "text": [
            "[[1 2 3]\n",
            " [4 5 6]]\n",
            "[[False  True False]\n",
            " [ True False  True]]\n",
            "[2 4 6]\n"
          ]
        }
      ],
      "source": [
        "print(a2)\n",
        "bi=np.random.randint(0,2,(2,3),dtype=bool)\n",
        "print(bi)\n",
        "print(a2[bi])"
      ]
    },
    {
      "cell_type": "markdown",
      "metadata": {
        "id": "F71_PQF1GvTs"
      },
      "source": [
        "\n",
        "\n",
        "---\n",
        "\n"
      ]
    },
    {
      "cell_type": "markdown",
      "metadata": {
        "id": "zDI5yQ58O-IX"
      },
      "source": [
        "# 배열 값 삽입/수정/삭제/복사"
      ]
    },
    {
      "cell_type": "markdown",
      "metadata": {
        "id": "zajd1qpVOQYy"
      },
      "source": [
        "## 배열 값 삽입\n",
        "\n",
        "* `insert()`: 배열의 특정 위치에 값 삽입\n",
        "* axis를 지정하지 않으면 1차원 배열로 변환\n",
        "* 추가할 방향을 axis로 지정\n",
        "* 원본 배열 변경없이 새로운 배열 반환"
      ]
    },
    {
      "cell_type": "code",
      "execution_count": null,
      "metadata": {
        "colab": {
          "base_uri": "https://localhost:8080/"
        },
        "id": "sedRT54rP395",
        "outputId": "97e4e879-2d98-44c4-c0f5-fa7e4aff2752"
      },
      "outputs": [
        {
          "output_type": "stream",
          "name": "stdout",
          "text": [
            "[1 2 3 4 5]\n",
            "[10  1  2  3  4  5]\n",
            "[ 1  2 10  3  4  5]\n"
          ]
        }
      ],
      "source": [
        "print(a1)\n",
        "b1=np.insert(a1,0,10)\n",
        "print(b1)\n",
        "\n",
        "c1=np.insert(a1,2,10)\n",
        "print(c1)"
      ]
    },
    {
      "cell_type": "code",
      "execution_count": null,
      "metadata": {
        "colab": {
          "base_uri": "https://localhost:8080/"
        },
        "id": "zNmu1E4iQ6h-",
        "outputId": "9ffe1105-50a6-413d-8186-d255c5ff5347"
      },
      "outputs": [
        {
          "output_type": "stream",
          "name": "stdout",
          "text": [
            "[[1 2 3]\n",
            " [4 5 6]]\n",
            "[[ 1  2  3]\n",
            " [10 10 10]\n",
            " [ 4  5  6]]\n",
            "[[ 1 10  2  3]\n",
            " [ 4 10  5  6]]\n"
          ]
        }
      ],
      "source": [
        "print(a2)\n",
        "b2=np.insert(a2,1,10,axis=0)\n",
        "print(b2)\n",
        "c2=np.insert(a2,1,10,axis=1)\n",
        "print(c2)"
      ]
    },
    {
      "cell_type": "markdown",
      "metadata": {
        "id": "OlEzG4ffNjyL"
      },
      "source": [
        "## 배열 값 수정\n",
        "\n",
        "* 배열의 인덱싱으로 접근하여 값 수정"
      ]
    },
    {
      "cell_type": "code",
      "execution_count": null,
      "metadata": {
        "colab": {
          "base_uri": "https://localhost:8080/"
        },
        "id": "ec43i1KWNjeN",
        "outputId": "590f8896-2288-443a-ab04-4bc5a67a0f89"
      },
      "outputs": [
        {
          "output_type": "stream",
          "name": "stdout",
          "text": [
            "[11 22 33  4  5]\n"
          ]
        }
      ],
      "source": [
        "a1[0]=11\n",
        "a1[1]=22\n",
        "a1[2]=33\n",
        "print(a1)"
      ]
    },
    {
      "cell_type": "code",
      "execution_count": null,
      "metadata": {
        "colab": {
          "base_uri": "https://localhost:8080/"
        },
        "id": "IApNNx3NOMQh",
        "outputId": "2399e326-ecf3-43ff-e4b1-9d3443d40cda"
      },
      "outputs": [
        {
          "output_type": "stream",
          "name": "stdout",
          "text": [
            "[ 9  9 33  4  5]\n"
          ]
        }
      ],
      "source": [
        "a1[:2]=9\n",
        "print(a1)"
      ]
    },
    {
      "cell_type": "code",
      "source": [
        "i=np.array([1,3,4])\n",
        "a1[i]=0\n",
        "print(a1)"
      ],
      "metadata": {
        "colab": {
          "base_uri": "https://localhost:8080/"
        },
        "id": "tev7HFXwzXed",
        "outputId": "e2f1c492-284f-4e4b-c8ee-109c68efa1a5"
      },
      "execution_count": null,
      "outputs": [
        {
          "output_type": "stream",
          "name": "stdout",
          "text": [
            "[ 9  0 33  0  0]\n"
          ]
        }
      ]
    },
    {
      "cell_type": "code",
      "source": [
        "a2=np.array([[1,2,3],[4,5,6],[7,8,9]])\n",
        "print(a2)"
      ],
      "metadata": {
        "colab": {
          "base_uri": "https://localhost:8080/"
        },
        "id": "sOr9_flszlef",
        "outputId": "a63f8317-2c0f-4e11-e673-eba44903b07a"
      },
      "execution_count": null,
      "outputs": [
        {
          "output_type": "stream",
          "name": "stdout",
          "text": [
            "[[1 2 3]\n",
            " [4 5 6]\n",
            " [7 8 9]]\n"
          ]
        }
      ]
    },
    {
      "cell_type": "code",
      "source": [
        "a2[0,0]=11\n",
        "a2[1,1]=22\n",
        "print(a2)"
      ],
      "metadata": {
        "colab": {
          "base_uri": "https://localhost:8080/"
        },
        "id": "nJVNT8pazYpv",
        "outputId": "4d8f5bb4-58ba-4b5f-ac81-d6b919fd9116"
      },
      "execution_count": null,
      "outputs": [
        {
          "output_type": "stream",
          "name": "stdout",
          "text": [
            "[[11  2  3]\n",
            " [ 4 22  6]\n",
            " [ 7  8  9]]\n"
          ]
        }
      ]
    },
    {
      "cell_type": "code",
      "source": [
        "a2[0]=1\n",
        "print(a2)"
      ],
      "metadata": {
        "colab": {
          "base_uri": "https://localhost:8080/"
        },
        "id": "EEQeSOQqz2Rn",
        "outputId": "fcd548c2-0d89-4e09-bf6a-025c3dd89d73"
      },
      "execution_count": null,
      "outputs": [
        {
          "output_type": "stream",
          "name": "stdout",
          "text": [
            "[[ 1  1  1]\n",
            " [ 4 22  6]\n",
            " [ 7  8  9]]\n"
          ]
        }
      ]
    },
    {
      "cell_type": "code",
      "source": [
        "a2[1:,2]=10\n",
        "print(a2)"
      ],
      "metadata": {
        "colab": {
          "base_uri": "https://localhost:8080/"
        },
        "id": "JTcFlWdiz8NH",
        "outputId": "2f774f4a-5cb6-4d4a-a207-58b90190caa4"
      },
      "execution_count": null,
      "outputs": [
        {
          "output_type": "stream",
          "name": "stdout",
          "text": [
            "[[ 1  1  1]\n",
            " [ 4 22 10]\n",
            " [ 7  8 10]]\n"
          ]
        }
      ]
    },
    {
      "cell_type": "markdown",
      "metadata": {
        "id": "emV7DgrITPcn"
      },
      "source": [
        "## 배열 값 삭제\n",
        "\n",
        "* `delete()`: 배열의 특정 위치에 값 삭제\n",
        "* axis를 지정하지 않으면 1차원 배열로 변환\n",
        "* 삭제할 방향을 axis로 지정\n",
        "* 원본 배열 변경없이 새로운 배열 반환"
      ]
    },
    {
      "cell_type": "code",
      "execution_count": null,
      "metadata": {
        "colab": {
          "base_uri": "https://localhost:8080/"
        },
        "id": "I3k_Yx8lTRJ2",
        "outputId": "21ddf58c-825a-436f-8458-ca770a39be7c"
      },
      "outputs": [
        {
          "output_type": "stream",
          "name": "stdout",
          "text": [
            "[1 2 3 4 5]\n"
          ]
        }
      ],
      "source": [
        "a1=np.array([1,2,3,4,5])\n",
        "print(a1)"
      ]
    },
    {
      "cell_type": "code",
      "source": [
        "b1=np.delete(a1,1)\n",
        "print(b1)\n",
        "print(a1)"
      ],
      "metadata": {
        "colab": {
          "base_uri": "https://localhost:8080/"
        },
        "id": "lR9_BYyd0VR_",
        "outputId": "a0e08853-a14d-4c49-f03c-0262d3dd39bb"
      },
      "execution_count": null,
      "outputs": [
        {
          "output_type": "stream",
          "name": "stdout",
          "text": [
            "[1 3 4 5]\n",
            "[1 2 3 4 5]\n"
          ]
        }
      ]
    },
    {
      "cell_type": "code",
      "source": [
        "a2=np.array([[1,2,3,4],[5,6,7,8],[1,2,3,4]])\n",
        "print(a2)"
      ],
      "metadata": {
        "colab": {
          "base_uri": "https://localhost:8080/"
        },
        "id": "BJHfouXP0VHZ",
        "outputId": "8724bb02-3bbf-4bb7-976c-d143892d8f55"
      },
      "execution_count": null,
      "outputs": [
        {
          "output_type": "stream",
          "name": "stdout",
          "text": [
            "[[1 2 3 4]\n",
            " [5 6 7 8]\n",
            " [1 2 3 4]]\n"
          ]
        }
      ]
    },
    {
      "cell_type": "code",
      "source": [
        "b2=np.delete(a2,1,axis=0)\n",
        "print(b2)"
      ],
      "metadata": {
        "colab": {
          "base_uri": "https://localhost:8080/"
        },
        "id": "MgKgEp4T0UqH",
        "outputId": "619eeac0-0157-4786-e95b-44f5087d101e"
      },
      "execution_count": null,
      "outputs": [
        {
          "output_type": "stream",
          "name": "stdout",
          "text": [
            "[[1 2 3 4]\n",
            " [1 2 3 4]]\n"
          ]
        }
      ]
    },
    {
      "cell_type": "code",
      "execution_count": null,
      "metadata": {
        "colab": {
          "base_uri": "https://localhost:8080/"
        },
        "id": "tRTwMIfJTq_y",
        "outputId": "4e121ab0-5a65-43be-8c1a-4dd9d9c5094e"
      },
      "outputs": [
        {
          "output_type": "stream",
          "name": "stdout",
          "text": [
            "[[1 3 4]\n",
            " [5 7 8]\n",
            " [1 3 4]]\n"
          ]
        }
      ],
      "source": [
        "c2=np.delete(a2,1,axis=1)\n",
        "print(c2)"
      ]
    },
    {
      "cell_type": "markdown",
      "metadata": {
        "id": "UydkYxV8Z6Fx"
      },
      "source": [
        "## 배열 복사\n",
        "\n",
        "* 리스트 자료형과 달리 배열의 슬라이스는 복사본이 아님"
      ]
    },
    {
      "cell_type": "code",
      "execution_count": null,
      "metadata": {
        "colab": {
          "base_uri": "https://localhost:8080/"
        },
        "id": "n2_0L8KWZ7wH",
        "outputId": "c0624706-849c-4e15-fafb-f9e78c60d13d"
      },
      "outputs": [
        {
          "output_type": "stream",
          "name": "stdout",
          "text": [
            "[[1 2 3 4]\n",
            " [5 6 7 8]\n",
            " [1 2 3 4]]\n"
          ]
        }
      ],
      "source": [
        "print(a2)"
      ]
    },
    {
      "cell_type": "markdown",
      "metadata": {
        "id": "UrQqOC1Eat5l"
      },
      "source": [
        "\n",
        "* `copy()`: 배열이나 하위 배열 내의 값을 명시적으로 복사"
      ]
    },
    {
      "cell_type": "code",
      "execution_count": null,
      "metadata": {
        "colab": {
          "base_uri": "https://localhost:8080/"
        },
        "id": "hLBZ7Qn6bAKO",
        "outputId": "0561f042-fbbf-4229-da92-007e5fdcea61"
      },
      "outputs": [
        {
          "output_type": "stream",
          "name": "stdout",
          "text": [
            "[[1 2]\n",
            " [5 6]]\n"
          ]
        }
      ],
      "source": [
        "a2_sub=a2[:2,:2]\n",
        "print(a2_sub)"
      ]
    },
    {
      "cell_type": "code",
      "source": [
        "a2_sub[:,1]=0\n",
        "print(a2_sub)\n",
        "print(a2)"
      ],
      "metadata": {
        "colab": {
          "base_uri": "https://localhost:8080/"
        },
        "id": "UKRY85K81cRl",
        "outputId": "1308dd32-1243-4df7-859b-45ab48968cf3"
      },
      "execution_count": null,
      "outputs": [
        {
          "output_type": "stream",
          "name": "stdout",
          "text": [
            "[[1 0]\n",
            " [5 0]]\n",
            "[[1 0 3 4]\n",
            " [5 0 7 8]\n",
            " [1 2 3 4]]\n"
          ]
        }
      ]
    },
    {
      "cell_type": "code",
      "source": [
        "a2=np.array([[1,2,3,4],[5,6,7,8],[1,2,3,4]])\n",
        "print(a2)"
      ],
      "metadata": {
        "colab": {
          "base_uri": "https://localhost:8080/"
        },
        "id": "_wLSGShM1sL0",
        "outputId": "215b74d6-7ec9-4ab7-802c-fc777e9efe1b"
      },
      "execution_count": null,
      "outputs": [
        {
          "output_type": "stream",
          "name": "stdout",
          "text": [
            "[[1 2 3 4]\n",
            " [5 6 7 8]\n",
            " [1 2 3 4]]\n"
          ]
        }
      ]
    },
    {
      "cell_type": "code",
      "source": [
        "a2_sub_copy=a2[:2,:2].copy()\n",
        "print(a2_sub_copy)\n"
      ],
      "metadata": {
        "colab": {
          "base_uri": "https://localhost:8080/"
        },
        "id": "JArNEKU11xjt",
        "outputId": "e84feb96-1da1-4198-ad1e-c1f1b82caa2c"
      },
      "execution_count": null,
      "outputs": [
        {
          "output_type": "stream",
          "name": "stdout",
          "text": [
            "[[1 2]\n",
            " [5 6]]\n"
          ]
        }
      ]
    },
    {
      "cell_type": "code",
      "source": [
        "a2_sub_copy[:,1]=0\n",
        "print(a2_sub_copy)\n",
        "print(a2)"
      ],
      "metadata": {
        "colab": {
          "base_uri": "https://localhost:8080/"
        },
        "id": "7y6E5nuE166_",
        "outputId": "c100cdae-6f0c-4b62-cd54-0e80321390da"
      },
      "execution_count": null,
      "outputs": [
        {
          "output_type": "stream",
          "name": "stdout",
          "text": [
            "[[1 0]\n",
            " [5 0]]\n",
            "[[1 2 3 4]\n",
            " [5 6 7 8]\n",
            " [1 2 3 4]]\n"
          ]
        }
      ]
    },
    {
      "cell_type": "markdown",
      "source": [
        ""
      ],
      "metadata": {
        "id": "yJMMabN11ZHy"
      }
    },
    {
      "cell_type": "markdown",
      "metadata": {
        "id": "4HTc9FXOGtA7"
      },
      "source": [
        "\n",
        "\n",
        "---\n",
        "\n"
      ]
    },
    {
      "cell_type": "markdown",
      "metadata": {
        "id": "XVZY082__yV6"
      },
      "source": [
        "# 배열 변환"
      ]
    },
    {
      "cell_type": "markdown",
      "metadata": {
        "id": "Ec09aPeBO58M"
      },
      "source": [
        "## 배열 전치 및 축 변경"
      ]
    },
    {
      "cell_type": "code",
      "execution_count": null,
      "metadata": {
        "colab": {
          "base_uri": "https://localhost:8080/"
        },
        "id": "anYByBpoWZmj",
        "outputId": "9e3af11d-d41e-4c46-bc54-916e4711aa56"
      },
      "outputs": [
        {
          "output_type": "stream",
          "name": "stdout",
          "text": [
            "[[1 5 1]\n",
            " [2 6 2]\n",
            " [3 7 3]\n",
            " [4 8 4]]\n"
          ]
        }
      ],
      "source": [
        "print(a2.T)"
      ]
    },
    {
      "cell_type": "code",
      "execution_count": null,
      "metadata": {
        "colab": {
          "base_uri": "https://localhost:8080/"
        },
        "id": "6lPwXL8rRTfI",
        "outputId": "8f86cca6-79c7-4f65-ea61-f30ee60ed030"
      },
      "outputs": [
        {
          "output_type": "stream",
          "name": "stdout",
          "text": [
            "[[1 5 1]\n",
            " [2 6 2]\n",
            " [3 7 3]\n",
            " [4 8 4]]\n"
          ]
        }
      ],
      "source": [
        "print(a2.swapaxes(1,0))"
      ]
    },
    {
      "cell_type": "markdown",
      "metadata": {
        "id": "M7xN8WdOdb_S"
      },
      "source": [
        "## 배열 재구조화\n"
      ]
    },
    {
      "cell_type": "markdown",
      "metadata": {
        "id": "JwZJMpXGfY0V"
      },
      "source": [
        "* `reshape()`: 배열의 형상을 변경"
      ]
    },
    {
      "cell_type": "code",
      "execution_count": null,
      "metadata": {
        "colab": {
          "base_uri": "https://localhost:8080/"
        },
        "id": "SlGQ17VQdd8i",
        "outputId": "a6575b5a-70f5-4594-e83c-0c0de0bc152e"
      },
      "outputs": [
        {
          "output_type": "stream",
          "name": "stdout",
          "text": [
            "[1 2 3 4 5 6 7 8 9]\n",
            "[[1 2 3]\n",
            " [4 5 6]\n",
            " [7 8 9]]\n"
          ]
        }
      ],
      "source": [
        "n1=np.arange(1,10)\n",
        "print(n1)\n",
        "print(n1.reshape(3,3))"
      ]
    },
    {
      "cell_type": "markdown",
      "metadata": {
        "id": "y_U1W-fQfuQY"
      },
      "source": [
        "* `newaxis()`: 새로운 축 추가. 한 차원 증가"
      ]
    },
    {
      "cell_type": "code",
      "execution_count": null,
      "metadata": {
        "colab": {
          "base_uri": "https://localhost:8080/"
        },
        "id": "COif_weCfkGo",
        "outputId": "7ec6fd0d-fd6e-47b1-f8db-15df2adb57a8"
      },
      "outputs": [
        {
          "output_type": "stream",
          "name": "stdout",
          "text": [
            "[1 2 3 4 5 6 7 8 9]\n"
          ]
        }
      ],
      "source": [
        "print(n1)"
      ]
    },
    {
      "cell_type": "code",
      "source": [
        "print(n1[np.newaxis,2:5])\n",
        "print(n1[2:5,np.newaxis])"
      ],
      "metadata": {
        "colab": {
          "base_uri": "https://localhost:8080/"
        },
        "id": "AS0Sgq362rbu",
        "outputId": "c292d323-f3fa-438b-ae91-e208d113c23f"
      },
      "execution_count": null,
      "outputs": [
        {
          "output_type": "stream",
          "name": "stdout",
          "text": [
            "[[3 4 5]]\n",
            "[[3]\n",
            " [4]\n",
            " [5]]\n"
          ]
        }
      ]
    },
    {
      "cell_type": "markdown",
      "metadata": {
        "id": "FR82RSDggbcJ"
      },
      "source": [
        "## 배열 크기 변경"
      ]
    },
    {
      "cell_type": "markdown",
      "metadata": {
        "id": "D1LuDMVFl4tc"
      },
      "source": [
        "* `resize()`: 배열 크기 변경\n",
        "* element의 수가 같으면, 배열 모양만 변경\n",
        "* element의 sequence는 유지됨"
      ]
    },
    {
      "cell_type": "code",
      "execution_count": null,
      "metadata": {
        "colab": {
          "base_uri": "https://localhost:8080/"
        },
        "id": "7B6pHlfxgdSJ",
        "outputId": "d8e2cdb8-8407-4012-cf39-c70eb168ef9b"
      },
      "outputs": [
        {
          "output_type": "stream",
          "name": "stdout",
          "text": [
            "[[5 9 2 1 2]\n",
            " [7 5 0 0 9]]\n"
          ]
        }
      ],
      "source": [
        "n2 = np.random.randint(0,10,(2,5))\n",
        "print(n2)"
      ]
    },
    {
      "cell_type": "code",
      "source": [
        "n2.resize((5,2))\n",
        "print(n2)"
      ],
      "metadata": {
        "colab": {
          "base_uri": "https://localhost:8080/"
        },
        "id": "4Ra-K4mE3_PB",
        "outputId": "f9cf1823-43e6-488e-f2cf-91a898ed5202"
      },
      "execution_count": null,
      "outputs": [
        {
          "output_type": "stream",
          "name": "stdout",
          "text": [
            "[[5 5]\n",
            " [1 2]\n",
            " [0 6]\n",
            " [9 5]\n",
            " [4 7]]\n"
          ]
        }
      ]
    },
    {
      "cell_type": "markdown",
      "metadata": {
        "id": "s0adm-h9l6sv"
      },
      "source": [
        "* resize 크기가 원본 배열보다 크면, 남은 공간은 0으로 채워짐"
      ]
    },
    {
      "cell_type": "code",
      "execution_count": null,
      "metadata": {
        "colab": {
          "base_uri": "https://localhost:8080/"
        },
        "id": "IrX0UcjrlWRV",
        "outputId": "591de3fc-7883-4b86-89bb-00c217c043ac"
      },
      "outputs": [
        {
          "output_type": "stream",
          "name": "stdout",
          "text": [
            "[[5 5 1 2 0]\n",
            " [6 9 5 4 7]\n",
            " [0 0 0 0 0]\n",
            " [0 0 0 0 0]\n",
            " [0 0 0 0 0]]\n"
          ]
        }
      ],
      "source": [
        "n2.resize((5,5),refcheck=False)\n",
        "print(n2)"
      ]
    },
    {
      "cell_type": "code",
      "source": [
        "np.resize(n2,(5,5))"
      ],
      "metadata": {
        "colab": {
          "base_uri": "https://localhost:8080/"
        },
        "id": "SKT8Penb4rn9",
        "outputId": "218c92c9-2470-4f87-e37e-0844f6ab4162"
      },
      "execution_count": null,
      "outputs": [
        {
          "output_type": "execute_result",
          "data": {
            "text/plain": [
              "array([[5, 9, 2, 1, 2],\n",
              "       [7, 5, 0, 0, 9],\n",
              "       [5, 9, 2, 1, 2],\n",
              "       [7, 5, 0, 0, 9],\n",
              "       [5, 9, 2, 1, 2]])"
            ]
          },
          "metadata": {},
          "execution_count": 152
        }
      ]
    },
    {
      "cell_type": "markdown",
      "metadata": {
        "id": "78hPDEzfl9JB"
      },
      "source": [
        "* resize 크기가 원본 배열보다 작으면, 기본 값은 삭제됨"
      ]
    },
    {
      "cell_type": "code",
      "execution_count": null,
      "metadata": {
        "colab": {
          "base_uri": "https://localhost:8080/"
        },
        "id": "fJWrwhc6lmjW",
        "outputId": "5a3d27d5-0f34-4a1c-c4ba-050a42a35a90"
      },
      "outputs": [
        {
          "output_type": "stream",
          "name": "stdout",
          "text": [
            "[[5 9 2]\n",
            " [1 2 7]\n",
            " [5 0 0]]\n"
          ]
        }
      ],
      "source": [
        "n2.resize((3,3),refcheck=False)\n",
        "print(n2)"
      ]
    },
    {
      "cell_type": "markdown",
      "metadata": {
        "id": "r9z2gD_pHyx9"
      },
      "source": [
        "## 배열 추가\n",
        "\n",
        "* `append()`: 배열의 끝에 값 추가"
      ]
    },
    {
      "cell_type": "code",
      "execution_count": null,
      "metadata": {
        "colab": {
          "base_uri": "https://localhost:8080/"
        },
        "id": "fH4lpQKNH5s1",
        "outputId": "ce583319-5f51-4fe7-8f00-a98ff5d097ae"
      },
      "outputs": [
        {
          "output_type": "stream",
          "name": "stdout",
          "text": [
            "[[1 2 3]\n",
            " [4 5 6]\n",
            " [7 8 9]]\n",
            "[[10 11 12]\n",
            " [13 14 15]\n",
            " [16 17 18]]\n"
          ]
        }
      ],
      "source": [
        "a2=np.arange(1,10).reshape(3,3)\n",
        "b2=np.arange(10,19).reshape(3,3)\n",
        "print(a2)\n",
        "print(b2)"
      ]
    },
    {
      "cell_type": "markdown",
      "metadata": {
        "id": "n8SMl5VVIquk"
      },
      "source": [
        "* axis 지정이 없으면 1차원 배열 형태로 변형되어 결합"
      ]
    },
    {
      "cell_type": "code",
      "execution_count": null,
      "metadata": {
        "colab": {
          "base_uri": "https://localhost:8080/"
        },
        "id": "LRltk3yFIVsV",
        "outputId": "fa167c45-a9ee-4d48-8ed4-ae4b8dbed75d"
      },
      "outputs": [
        {
          "output_type": "stream",
          "name": "stdout",
          "text": [
            "[ 1  2  3  4  5  6  7  8  9 10 11 12 13 14 15 16 17 18]\n"
          ]
        }
      ],
      "source": [
        "c2=np.append(a2,b2)\n",
        "print(c2)"
      ]
    },
    {
      "cell_type": "markdown",
      "metadata": {
        "id": "sVW2UFVZJfpR"
      },
      "source": [
        "* axis를 0으로 지정 : 행 방향 결합"
      ]
    },
    {
      "cell_type": "code",
      "execution_count": null,
      "metadata": {
        "colab": {
          "base_uri": "https://localhost:8080/"
        },
        "id": "nwJ4xLOeIbMg",
        "outputId": "a932ab02-bdc8-451b-e893-3386ea27daa2"
      },
      "outputs": [
        {
          "output_type": "stream",
          "name": "stdout",
          "text": [
            "[[ 1  2  3]\n",
            " [ 4  5  6]\n",
            " [ 7  8  9]\n",
            " [10 11 12]\n",
            " [13 14 15]\n",
            " [16 17 18]]\n"
          ]
        }
      ],
      "source": [
        "c2=np.append(a2,b2,axis=0)\n",
        "print(c2)"
      ]
    },
    {
      "cell_type": "markdown",
      "metadata": {
        "id": "4YXxzygaJmj-"
      },
      "source": [
        "* axis를 1로 지정 : 열 방향 결합"
      ]
    },
    {
      "cell_type": "code",
      "execution_count": null,
      "metadata": {
        "colab": {
          "base_uri": "https://localhost:8080/"
        },
        "id": "JYE4_5gAJmYe",
        "outputId": "de6f7b15-81f7-46f7-8d89-c2f619a5f93b"
      },
      "outputs": [
        {
          "output_type": "stream",
          "name": "stdout",
          "text": [
            "[[ 1  2  3 10 11 12]\n",
            " [ 4  5  6 13 14 15]\n",
            " [ 7  8  9 16 17 18]]\n"
          ]
        }
      ],
      "source": [
        "c2=np.append(a2,b2,axis=1)\n",
        "print(c2)"
      ]
    },
    {
      "cell_type": "markdown",
      "metadata": {
        "id": "eYz74NYKo8iH"
      },
      "source": [
        "## 배열 분할"
      ]
    },
    {
      "cell_type": "markdown",
      "metadata": {
        "id": "wjt2zku5pBmF"
      },
      "source": [
        "* `split()`: 배열 분할"
      ]
    },
    {
      "cell_type": "code",
      "execution_count": null,
      "metadata": {
        "colab": {
          "base_uri": "https://localhost:8080/"
        },
        "id": "H_2e71heo-Eq",
        "outputId": "3321eda2-53e7-4618-8931-1e2733b64353"
      },
      "outputs": [
        {
          "output_type": "stream",
          "name": "stdout",
          "text": [
            "[11 12 13 14 15 16 17 18 19 20]\n"
          ]
        }
      ],
      "source": [
        "a1=np.arange(11,21)\n",
        "print(a1)"
      ]
    },
    {
      "cell_type": "code",
      "source": [
        "b1,c1=np.split(a1,[5])\n",
        "print(b1)\n",
        "print(c1)"
      ],
      "metadata": {
        "colab": {
          "base_uri": "https://localhost:8080/"
        },
        "id": "_AdPqDzh6UTM",
        "outputId": "fb44dc0f-c8ef-4631-d1ba-5155668c6b97"
      },
      "execution_count": null,
      "outputs": [
        {
          "output_type": "stream",
          "name": "stdout",
          "text": [
            "[11 12 13 14 15]\n",
            "[16 17 18 19 20]\n"
          ]
        }
      ]
    },
    {
      "cell_type": "code",
      "source": [
        "b1,c1,d1,e1,f1=np.split(a1,[2,4,6,8])\n",
        "print(b1,c1,d1,e1,f1)"
      ],
      "metadata": {
        "colab": {
          "base_uri": "https://localhost:8080/"
        },
        "id": "geHiWv8b7zHQ",
        "outputId": "a8c28144-d0d9-4c2a-eaa8-0ce3214d327f"
      },
      "execution_count": null,
      "outputs": [
        {
          "output_type": "stream",
          "name": "stdout",
          "text": [
            "[11 12] [13 14] [15 16] [17 18] [19 20]\n"
          ]
        }
      ]
    },
    {
      "cell_type": "markdown",
      "metadata": {
        "id": "IvvdCQcKsCLn"
      },
      "source": [
        "* `vsplit()`: 수직(y축) 분할. 행 분할"
      ]
    },
    {
      "cell_type": "code",
      "execution_count": null,
      "metadata": {
        "colab": {
          "base_uri": "https://localhost:8080/"
        },
        "id": "GdMYlsiLsCoe",
        "outputId": "46651042-c568-45cb-debd-4b81ce26dd32"
      },
      "outputs": [
        {
          "output_type": "stream",
          "name": "stdout",
          "text": [
            "[[1 2 3]\n",
            " [4 5 6]\n",
            " [7 8 9]]\n"
          ]
        }
      ],
      "source": [
        "a2=np.arange(1,10).reshape(3,3)\n",
        "print(a2)"
      ]
    },
    {
      "cell_type": "code",
      "source": [
        "b2,c2=np.vsplit(a2,[2])\n",
        "print(b2)\n",
        "print(c2)"
      ],
      "metadata": {
        "colab": {
          "base_uri": "https://localhost:8080/"
        },
        "id": "K8QlYJ0y6_LY",
        "outputId": "41937d8b-8ff5-46c1-d618-1660cb94225f"
      },
      "execution_count": null,
      "outputs": [
        {
          "output_type": "stream",
          "name": "stdout",
          "text": [
            "[[1 2 3]\n",
            " [4 5 6]]\n",
            "[[7 8 9]]\n"
          ]
        }
      ]
    },
    {
      "cell_type": "markdown",
      "metadata": {
        "id": "1aC0a034rSXi"
      },
      "source": [
        "* `hsplit()`: 수평(x축) 분할. 열 분할"
      ]
    },
    {
      "cell_type": "code",
      "execution_count": null,
      "metadata": {
        "colab": {
          "base_uri": "https://localhost:8080/"
        },
        "id": "ShMnE_bnrSBJ",
        "outputId": "5069fe0b-dcc8-4839-bed8-c60246e2b730"
      },
      "outputs": [
        {
          "output_type": "stream",
          "name": "stdout",
          "text": [
            "[[1 2]\n",
            " [4 5]\n",
            " [7 8]]\n",
            "[[3]\n",
            " [6]\n",
            " [9]]\n"
          ]
        }
      ],
      "source": [
        "b3,c3=np.hsplit(a2,[2])\n",
        "print(b3)\n",
        "print(c3)"
      ]
    },
    {
      "cell_type": "markdown",
      "metadata": {
        "id": "rK-zrDZuGoVd"
      },
      "source": [
        "\n",
        "\n",
        "---\n",
        "\n"
      ]
    },
    {
      "cell_type": "markdown",
      "metadata": {
        "id": "Vc-iSWewJ3C1"
      },
      "source": [
        "# 배열 연산\n",
        "\n",
        "* NumPy의 배열 연산은 벡터화(vectorized) 연산을 사용\n",
        "* 일반적으로 NumPy의 범용 함수(universal functions)를 통해 구현\n",
        "* 배열 요소에 대한 반복적인 계산을 효율적으로 수행"
      ]
    },
    {
      "cell_type": "markdown",
      "metadata": {
        "id": "Pg2er1A2w3cz"
      },
      "source": [
        "## 브로드캐스팅(Broadcasting)\n",
        "\n",
        "![1.3 Broadcasting.png](https://drive.google.com/uc?id=1iDTSzbR5GILf1-A7aTfNssG_IF6UZAD2)"
      ]
    },
    {
      "cell_type": "code",
      "execution_count": null,
      "metadata": {
        "id": "IGU-HRgr20nj",
        "colab": {
          "base_uri": "https://localhost:8080/"
        },
        "outputId": "fba99e1a-46a9-4610-c029-31953c70edba"
      },
      "outputs": [
        {
          "output_type": "stream",
          "name": "stdout",
          "text": [
            "[1 2 3]\n",
            "[6 7 8]\n"
          ]
        }
      ],
      "source": [
        "a1=np.array([1,2,3])\n",
        "print(a1)\n",
        "print(a1+5)"
      ]
    },
    {
      "cell_type": "code",
      "source": [
        "a2=np.arange(1,10).reshape(3,3)\n",
        "print(a2)"
      ],
      "metadata": {
        "colab": {
          "base_uri": "https://localhost:8080/"
        },
        "id": "zO2jfXB-ZIZL",
        "outputId": "8af18483-eaca-4a4c-a081-dcfa60651b3c"
      },
      "execution_count": null,
      "outputs": [
        {
          "output_type": "stream",
          "name": "stdout",
          "text": [
            "[[1 2 3]\n",
            " [4 5 6]\n",
            " [7 8 9]]\n"
          ]
        }
      ]
    },
    {
      "cell_type": "code",
      "source": [
        "print(a1+a2)"
      ],
      "metadata": {
        "colab": {
          "base_uri": "https://localhost:8080/"
        },
        "id": "kIoZV6IQZYu_",
        "outputId": "8c58b105-c5a0-4db7-9189-b151d40d7c7f"
      },
      "execution_count": null,
      "outputs": [
        {
          "output_type": "stream",
          "name": "stdout",
          "text": [
            "[[ 2  4  6]\n",
            " [ 5  7  9]\n",
            " [ 8 10 12]]\n"
          ]
        }
      ]
    },
    {
      "cell_type": "code",
      "source": [
        "b2=np.array([1,2,3]).reshape(3,1)\n",
        "print(b2)"
      ],
      "metadata": {
        "colab": {
          "base_uri": "https://localhost:8080/"
        },
        "id": "IVuYPgzxZdNW",
        "outputId": "67e00c12-e106-4d6c-e3c2-e0ca3b01c639"
      },
      "execution_count": null,
      "outputs": [
        {
          "output_type": "stream",
          "name": "stdout",
          "text": [
            "[[1]\n",
            " [2]\n",
            " [3]]\n"
          ]
        }
      ]
    },
    {
      "cell_type": "code",
      "source": [
        "print(a1+b2)"
      ],
      "metadata": {
        "colab": {
          "base_uri": "https://localhost:8080/"
        },
        "id": "o1Mg_tikZ2gn",
        "outputId": "77084a29-4fdb-40c1-df12-e810bc705973"
      },
      "execution_count": null,
      "outputs": [
        {
          "output_type": "stream",
          "name": "stdout",
          "text": [
            "[[2 3 4]\n",
            " [3 4 5]\n",
            " [4 5 6]]\n"
          ]
        }
      ]
    },
    {
      "cell_type": "markdown",
      "metadata": {
        "id": "NZzLHHLmwl_b"
      },
      "source": [
        "## 산술 연산(Arithmetic Operators)"
      ]
    },
    {
      "cell_type": "markdown",
      "metadata": {
        "id": "4oIlz0bNjK2m"
      },
      "source": [
        "| 연산자\t      | 범용 함수           | 설명        |\n",
        "|---------------|---------------------|-------------|\n",
        "|``+``          |``np.add``           | 덧셈        |\n",
        "|``-``          |``np.subtract``      | 뺄셈        |\n",
        "|``-``          |``np.negative``      | 단항 음수  |\n",
        "|``*``          |``np.multiply``      | 곱셈        |\n",
        "|``/``          |``np.divide``        | 나눗셈      |\n",
        "|``//``         |``np.floor_divide``  | 나눗셈 내림 |\n",
        "|``**``         |``np.power``         | 지수 연산   |\n",
        "|``%``          |``np.mod``           | 나머지 연산 |\n"
      ]
    },
    {
      "cell_type": "code",
      "execution_count": null,
      "metadata": {
        "id": "jHrIjHGEi05k"
      },
      "outputs": [],
      "source": [
        "a1=np.arange(1,10)"
      ]
    },
    {
      "cell_type": "code",
      "execution_count": null,
      "metadata": {
        "id": "sMUYzXk3psgC",
        "colab": {
          "base_uri": "https://localhost:8080/"
        },
        "outputId": "42992c85-a236-4fd7-ae60-b231229df39a"
      },
      "outputs": [
        {
          "output_type": "stream",
          "name": "stdout",
          "text": [
            "[ 2  3  4  5  6  7  8  9 10]\n",
            "[11 12 13 14 15 16 17 18 19]\n"
          ]
        }
      ],
      "source": [
        "print(a1+1)\n",
        "print(np.add(a1,10))"
      ]
    },
    {
      "cell_type": "code",
      "execution_count": null,
      "metadata": {
        "id": "ZkyjPmk5onPK"
      },
      "outputs": [],
      "source": [
        ""
      ]
    },
    {
      "cell_type": "markdown",
      "metadata": {
        "id": "JM2Ghx2NGloN"
      },
      "source": [
        "\n",
        "\n",
        "---\n",
        "\n"
      ]
    },
    {
      "cell_type": "markdown",
      "source": [
        "절대값함수\n",
        "absulute(), abs(): 내장함수"
      ],
      "metadata": {
        "id": "LNMdjRLpXHB1"
      }
    },
    {
      "cell_type": "code",
      "source": [
        "a1= np.random.randint(-10,10,size=5)\n",
        "print(a1)\n",
        "print(np.absolute(a1))\n",
        "print(np.abs(a1))"
      ],
      "metadata": {
        "colab": {
          "base_uri": "https://localhost:8080/"
        },
        "id": "n6xbskptXGNb",
        "outputId": "5cd788cf-c1db-4713-bf96-e618de8266e4"
      },
      "execution_count": null,
      "outputs": [
        {
          "output_type": "stream",
          "name": "stdout",
          "text": [
            "[-5  6  7 -4 -6]\n",
            "[5 6 7 4 6]\n",
            "[5 6 7 4 6]\n"
          ]
        }
      ]
    },
    {
      "cell_type": "markdown",
      "source": [
        "제곱/제곱근 함수\n",
        "square, sqrt: 제곱,제곱근 함수\n",
        "sqrt는 음수가 있으면 nan으로 나옴"
      ],
      "metadata": {
        "id": "8fWA_iPnXgdB"
      }
    },
    {
      "cell_type": "code",
      "source": [
        "print(np.square(a1))\n",
        "print(np.sqrt(a1))"
      ],
      "metadata": {
        "colab": {
          "base_uri": "https://localhost:8080/"
        },
        "id": "qLZ1TjZyXgr_",
        "outputId": "df2a23dd-364f-434e-8a58-865f0ab6e35c"
      },
      "execution_count": null,
      "outputs": [
        {
          "output_type": "stream",
          "name": "stdout",
          "text": [
            "[25 36 49 16 36]\n",
            "[       nan 2.44948974 2.64575131        nan        nan]\n"
          ]
        },
        {
          "output_type": "stream",
          "name": "stderr",
          "text": [
            "/usr/local/lib/python3.7/dist-packages/ipykernel_launcher.py:2: RuntimeWarning: invalid value encountered in sqrt\n",
            "  \n"
          ]
        }
      ]
    },
    {
      "cell_type": "markdown",
      "source": [
        "지수와 로그 함수"
      ],
      "metadata": {
        "id": "AG1HFyf5Xwd3"
      }
    },
    {
      "cell_type": "code",
      "source": [
        "a1=np.random.randint(1,10,size=5)\n",
        "print(a1)\n",
        "print(np.exp(a1))# e^n (e=2.718....)\n",
        "print(np.exp2(a1))#2^n\n",
        "print(np.power(a1,2))#a1을 2번만큼 곱한 것 "
      ],
      "metadata": {
        "colab": {
          "base_uri": "https://localhost:8080/"
        },
        "id": "PqzjOt4PXwmQ",
        "outputId": "f855f8aa-6cb5-4b28-84f1-4c2ea3803f25"
      },
      "execution_count": null,
      "outputs": [
        {
          "output_type": "stream",
          "name": "stdout",
          "text": [
            "[6 7 2 7 9]\n",
            "[4.03428793e+02 1.09663316e+03 7.38905610e+00 1.09663316e+03\n",
            " 8.10308393e+03]\n",
            "[ 64. 128.   4. 128. 512.]\n",
            "[36 49  4 49 81]\n"
          ]
        }
      ]
    },
    {
      "cell_type": "code",
      "source": [
        "print(np.log(a1))\n",
        "print(np.log2(a1))\n",
        "print(np.log10(a1))"
      ],
      "metadata": {
        "colab": {
          "base_uri": "https://localhost:8080/"
        },
        "id": "AL_FPomlYhr7",
        "outputId": "53470a94-3b68-443d-8953-803f13a78bfb"
      },
      "execution_count": null,
      "outputs": [
        {
          "output_type": "stream",
          "name": "stdout",
          "text": [
            "[1.79175947 1.94591015 0.69314718 1.94591015 2.19722458]\n",
            "[2.5849625  2.80735492 1.         2.80735492 3.169925  ]\n",
            "[0.77815125 0.84509804 0.30103    0.84509804 0.95424251]\n"
          ]
        }
      ]
    },
    {
      "cell_type": "markdown",
      "source": [
        "집계함수![image01.png](data:image/png;base64,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)"
      ],
      "metadata": {
        "id": "sCpZMYf6X1Ex"
      }
    },
    {
      "cell_type": "code",
      "source": [
        ""
      ],
      "metadata": {
        "id": "11RAvmAnX1MR"
      },
      "execution_count": null,
      "outputs": []
    },
    {
      "cell_type": "markdown",
      "source": [
        "sum : 합계산"
      ],
      "metadata": {
        "id": "9DNw4kdUZ4iR"
      }
    },
    {
      "cell_type": "code",
      "source": [
        "a2=np.random.randint(1,10,size=(3,3))\n",
        "print(a2)\n",
        "print(a2.sum(),np.sum(a2))\n",
        "print(a2.sum(axis=0),np.sum(a2,axis=0))#열 방향의 합(결과값의 방향이 행)\n",
        "print(a2.sum(axis=1),np.sum(a2,axis=1))#행 방향의 합(결과값의 방향이 열)\n"
      ],
      "metadata": {
        "colab": {
          "base_uri": "https://localhost:8080/"
        },
        "id": "iqViGkpNZ4p2",
        "outputId": "422eaa95-935c-497b-ea9c-9358b6b3aa6e"
      },
      "execution_count": null,
      "outputs": [
        {
          "output_type": "stream",
          "name": "stdout",
          "text": [
            "[[7 6 1]\n",
            " [4 2 1]\n",
            " [8 3 5]]\n",
            "37 37\n",
            "[19 11  7] [19 11  7]\n",
            "[14  7 16] [14  7 16]\n"
          ]
        }
      ]
    },
    {
      "cell_type": "markdown",
      "source": [
        "cumsum(): 누적합 계산 "
      ],
      "metadata": {
        "id": "zkeeB2W7Z4wV"
      }
    },
    {
      "cell_type": "code",
      "source": [
        "print(a2)\n",
        "print(np.cumsum(a2))\n",
        "print(np.cumsum(a2,axis=0))\n",
        "\n",
        "print(np.cumsum(a2,axis=1))"
      ],
      "metadata": {
        "colab": {
          "base_uri": "https://localhost:8080/"
        },
        "id": "UiUT3jEOZ45H",
        "outputId": "91ffe219-522f-4049-8de8-877d19139a42"
      },
      "execution_count": null,
      "outputs": [
        {
          "output_type": "stream",
          "name": "stdout",
          "text": [
            "[[7 6 1]\n",
            " [4 2 1]\n",
            " [8 3 5]]\n",
            "[ 7 13 14 18 20 21 29 32 37]\n",
            "[[ 7  6  1]\n",
            " [11  8  2]\n",
            " [19 11  7]]\n",
            "[[ 7 13 14]\n",
            " [ 4  6  7]\n",
            " [ 8 11 16]]\n"
          ]
        }
      ]
    },
    {
      "cell_type": "markdown",
      "source": [
        "prod():곱 계산"
      ],
      "metadata": {
        "id": "TQSYi843Z4_-"
      }
    },
    {
      "cell_type": "code",
      "source": [
        "print(a2)\n",
        "print(np.prod(a2))\n",
        "print(np.prod(a2,axis=0))\n",
        "print(np.prod(a2,axis=1))"
      ],
      "metadata": {
        "colab": {
          "base_uri": "https://localhost:8080/"
        },
        "id": "eeAqGUemZ5GJ",
        "outputId": "d468e890-a8d4-4bcf-fded-718e0679a2de"
      },
      "execution_count": null,
      "outputs": [
        {
          "output_type": "stream",
          "name": "stdout",
          "text": [
            "[[7 6 1]\n",
            " [4 2 1]\n",
            " [8 3 5]]\n",
            "40320\n",
            "[224  36   5]\n",
            "[ 42   8 120]\n"
          ]
        }
      ]
    },
    {
      "cell_type": "markdown",
      "source": [
        "cumprod():누적 곱 계산"
      ],
      "metadata": {
        "id": "5F4rQJjpZ5aM"
      }
    },
    {
      "cell_type": "code",
      "source": [
        "print(a2)\n",
        "print(np.cumprod(a2))\n",
        "print(np.cumprod(a2,axis=0))\n",
        "print(np.cumprod(a2,axis=1))"
      ],
      "metadata": {
        "colab": {
          "base_uri": "https://localhost:8080/"
        },
        "id": "JysmMLolZ5i9",
        "outputId": "86d13b01-ef38-4e98-8fa7-0f59fa78a6a0"
      },
      "execution_count": null,
      "outputs": [
        {
          "output_type": "stream",
          "name": "stdout",
          "text": [
            "[[7 6 1]\n",
            " [4 2 1]\n",
            " [8 3 5]]\n",
            "[    7    42    42   168   336   336  2688  8064 40320]\n",
            "[[  7   6   1]\n",
            " [ 28  12   1]\n",
            " [224  36   5]]\n",
            "[[  7  42  42]\n",
            " [  4   8   8]\n",
            " [  8  24 120]]\n"
          ]
        }
      ]
    },
    {
      "cell_type": "markdown",
      "source": [
        "dot()/matmul(): 점곱/행렬곱 계산"
      ],
      "metadata": {
        "id": "u0CgFwe9Z51o"
      }
    },
    {
      "cell_type": "code",
      "source": [
        "print(a2)\n",
        "b2=np.ones_like(a2)\n",
        "print(b2)\n",
        "print(np.dot(a2,b2))\n",
        "print(np.matmul(a2,b2))"
      ],
      "metadata": {
        "colab": {
          "base_uri": "https://localhost:8080/"
        },
        "id": "mxENTD1FZ58M",
        "outputId": "29dda374-c6c7-4b90-afec-3a82727d986a"
      },
      "execution_count": null,
      "outputs": [
        {
          "output_type": "stream",
          "name": "stdout",
          "text": [
            "[[7 6 1]\n",
            " [4 2 1]\n",
            " [8 3 5]]\n",
            "[[1 1 1]\n",
            " [1 1 1]\n",
            " [1 1 1]]\n",
            "[[14 14 14]\n",
            " [ 7  7  7]\n",
            " [16 16 16]]\n",
            "[[14 14 14]\n",
            " [ 7  7  7]\n",
            " [16 16 16]]\n"
          ]
        }
      ]
    },
    {
      "cell_type": "markdown",
      "source": [
        "mean():평균 계산"
      ],
      "metadata": {
        "id": "LLbBIAB9Z6Bt"
      }
    },
    {
      "cell_type": "code",
      "source": [
        "print(a2)\n",
        "print(np.mean(a2))\n",
        "print(np.mean(a2,axis=0))\n",
        "print(np.mean(a2,axis=1))"
      ],
      "metadata": {
        "colab": {
          "base_uri": "https://localhost:8080/"
        },
        "id": "_cyuE5xjZ6IW",
        "outputId": "de10931a-3124-4c45-bf5d-cabf76bcbe22"
      },
      "execution_count": null,
      "outputs": [
        {
          "output_type": "stream",
          "name": "stdout",
          "text": [
            "[[7 6 1]\n",
            " [4 2 1]\n",
            " [8 3 5]]\n",
            "4.111111111111111\n",
            "[6.33333333 3.66666667 2.33333333]\n",
            "[4.66666667 2.33333333 5.33333333]\n"
          ]
        }
      ]
    },
    {
      "cell_type": "markdown",
      "source": [
        "std():표준편차 계산"
      ],
      "metadata": {
        "id": "xk1EqdCHeyBJ"
      }
    },
    {
      "cell_type": "code",
      "source": [
        "print(a2)\n",
        "print(np.std(a2))\n",
        "print(np.std(a2,axis=0))\n",
        "print(np.std(a2,axis=1))\n"
      ],
      "metadata": {
        "colab": {
          "base_uri": "https://localhost:8080/"
        },
        "id": "BznHCALIeyIu",
        "outputId": "d8c0ab8e-858e-43fb-a746-b7757e441b1f"
      },
      "execution_count": null,
      "outputs": [
        {
          "output_type": "stream",
          "name": "stdout",
          "text": [
            "[[7 6 1]\n",
            " [4 2 1]\n",
            " [8 3 5]]\n",
            "2.4241582476968255\n",
            "[1.69967317 1.69967317 1.88561808]\n",
            "[2.62466929 1.24721913 2.05480467]\n"
          ]
        }
      ]
    },
    {
      "cell_type": "markdown",
      "source": [
        "var():분산 계산"
      ],
      "metadata": {
        "id": "AQ-R_3R6eyOw"
      }
    },
    {
      "cell_type": "code",
      "source": [
        "print(a2)\n",
        "print(np.var(a2))\n",
        "print(np.var(a2,axis=0))\n",
        "print(np.var(a2,axis=1))"
      ],
      "metadata": {
        "colab": {
          "base_uri": "https://localhost:8080/"
        },
        "id": "vbI-zM_aeyUw",
        "outputId": "cced0777-7b57-4845-8216-c1406b56279b"
      },
      "execution_count": null,
      "outputs": [
        {
          "output_type": "stream",
          "name": "stdout",
          "text": [
            "[[7 6 1]\n",
            " [4 2 1]\n",
            " [8 3 5]]\n",
            "5.876543209876543\n",
            "[2.88888889 2.88888889 3.55555556]\n",
            "[6.88888889 1.55555556 4.22222222]\n"
          ]
        }
      ]
    },
    {
      "cell_type": "markdown",
      "source": [
        "min():최솟값"
      ],
      "metadata": {
        "id": "IW8HGTpreyZv"
      }
    },
    {
      "cell_type": "code",
      "source": [
        "print(a2)\n",
        "print(np.min(a2))\n",
        "print(np.min(a2,axis=0))\n",
        "print(np.min(a2,axis=1))"
      ],
      "metadata": {
        "colab": {
          "base_uri": "https://localhost:8080/"
        },
        "id": "7hKwB84UeyfW",
        "outputId": "cdccae85-f126-4c19-d475-4735a529f045"
      },
      "execution_count": null,
      "outputs": [
        {
          "output_type": "stream",
          "name": "stdout",
          "text": [
            "[[7 6 1]\n",
            " [4 2 1]\n",
            " [8 3 5]]\n",
            "1\n",
            "[4 2 1]\n",
            "[1 1 3]\n"
          ]
        }
      ]
    },
    {
      "cell_type": "markdown",
      "source": [
        "max()"
      ],
      "metadata": {
        "id": "5rysBpwsfUR7"
      }
    },
    {
      "cell_type": "code",
      "source": [
        "print(a2)\n",
        "print(np.max(a2))\n",
        "print(np.max(a2,axis=0))\n",
        "print(np.max(a2,axis=1))"
      ],
      "metadata": {
        "colab": {
          "base_uri": "https://localhost:8080/"
        },
        "id": "2vs7LXCofUXj",
        "outputId": "009ab305-9224-4526-d29f-17f1ace9c812"
      },
      "execution_count": null,
      "outputs": [
        {
          "output_type": "stream",
          "name": "stdout",
          "text": [
            "[[7 6 1]\n",
            " [4 2 1]\n",
            " [8 3 5]]\n",
            "8\n",
            "[8 6 5]\n",
            "[7 4 8]\n"
          ]
        }
      ]
    },
    {
      "cell_type": "markdown",
      "source": [
        "\n",
        "argmin(): 최솟값 인덱스 위치"
      ],
      "metadata": {
        "id": "UC7hgbPgfUc4"
      }
    },
    {
      "cell_type": "code",
      "source": [
        "print(a2)\n",
        "print(np.argmin(a2))\n",
        "print(np.argmin(a2,axis=0))\n",
        "print(np.argmin(a2,axis=1))"
      ],
      "metadata": {
        "colab": {
          "base_uri": "https://localhost:8080/"
        },
        "id": "xp9eJbqufUjC",
        "outputId": "79e6f2ad-44a3-4983-b420-4d9c9cd175f3"
      },
      "execution_count": null,
      "outputs": [
        {
          "output_type": "stream",
          "name": "stdout",
          "text": [
            "[[7 6 1]\n",
            " [4 2 1]\n",
            " [8 3 5]]\n",
            "2\n",
            "[1 1 0]\n",
            "[2 2 1]\n"
          ]
        }
      ]
    },
    {
      "cell_type": "markdown",
      "source": [
        "\n",
        "argmax(): 최댓값 인덱스"
      ],
      "metadata": {
        "id": "6YCkdBHKfU9H"
      }
    },
    {
      "cell_type": "code",
      "source": [
        "print(a2)\n",
        "print(np.argmax(a2))\n",
        "print(np.argmax(a2,axis=0))\n",
        "print(np.argmax(a2,axis=1))"
      ],
      "metadata": {
        "colab": {
          "base_uri": "https://localhost:8080/"
        },
        "id": "V85jb910fVc9",
        "outputId": "b4082543-af8c-4b63-e057-2d4c64d4be3a"
      },
      "execution_count": null,
      "outputs": [
        {
          "output_type": "stream",
          "name": "stdout",
          "text": [
            "[[7 6 1]\n",
            " [4 2 1]\n",
            " [8 3 5]]\n",
            "6\n",
            "[2 0 2]\n",
            "[0 0 0]\n"
          ]
        }
      ]
    },
    {
      "cell_type": "markdown",
      "source": [
        "median():중앙값"
      ],
      "metadata": {
        "id": "yht486LafvZE"
      }
    },
    {
      "cell_type": "code",
      "source": [
        "print(a2)\n",
        "print(np.median(a2))\n",
        "print(np.median(a2,axis=0))\n",
        "print(np.median(a2,axis=1))"
      ],
      "metadata": {
        "colab": {
          "base_uri": "https://localhost:8080/"
        },
        "id": "eijavtnyfvex",
        "outputId": "23412787-ff18-4f72-b652-2c14c6c8a02d"
      },
      "execution_count": null,
      "outputs": [
        {
          "output_type": "stream",
          "name": "stdout",
          "text": [
            "[[7 6 1]\n",
            " [4 2 1]\n",
            " [8 3 5]]\n",
            "4.0\n",
            "[7. 3. 1.]\n",
            "[6. 2. 5.]\n"
          ]
        }
      ]
    },
    {
      "cell_type": "markdown",
      "source": [
        "![image.png](data:image/png;base64,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)"
      ],
      "metadata": {
        "id": "o-XTHHVhgvVi"
      }
    },
    {
      "cell_type": "code",
      "source": [
        "a1=np.arange(1,13)\n",
        "print(a1)\n",
        "print(np.percentile(a1,[30,50,80],interpolation='linear'))\n",
        "print(np.percentile(a1,[30,50,80],interpolation='lower'))\n",
        "print(np.percentile(a1,[30,50,80],interpolation='higher'))\n",
        "print(np.percentile(a1,[30,50,80],interpolation='nearest'))\n",
        "print(np.percentile(a1,[30,50,80],interpolation='midpoint'))\n"
      ],
      "metadata": {
        "colab": {
          "base_uri": "https://localhost:8080/"
        },
        "id": "Tir30wk4fvp8",
        "outputId": "532d2c29-f0c5-4dcb-a5d7-6499300b16f9"
      },
      "execution_count": null,
      "outputs": [
        {
          "output_type": "stream",
          "name": "stdout",
          "text": [
            "[ 1  2  3  4  5  6  7  8  9 10 11 12]\n",
            "[4.3 6.5 9.8]\n",
            "[4 6 9]\n",
            "[ 5  7 10]\n",
            "[ 4  7 10]\n",
            "[4.5 6.5 9.5]\n"
          ]
        }
      ]
    },
    {
      "cell_type": "code",
      "source": [
        "a2=np.array([[10,7,5],[3,2,1]])\n",
        "print(a2)"
      ],
      "metadata": {
        "colab": {
          "base_uri": "https://localhost:8080/"
        },
        "id": "9nLfYlQvjwK0",
        "outputId": "fa8a3ad3-e22f-4737-f1d2-5522613d74c4"
      },
      "execution_count": null,
      "outputs": [
        {
          "output_type": "stream",
          "name": "stdout",
          "text": [
            "[[10  7  5]\n",
            " [ 3  2  1]]\n"
          ]
        }
      ]
    },
    {
      "cell_type": "code",
      "source": [
        "print(np.percentile(a2,50))\n",
        "print(np.percentile(a2,50,axis=0))\n",
        "print(np.percentile(a2,50,axis=1))\n",
        "\n"
      ],
      "metadata": {
        "colab": {
          "base_uri": "https://localhost:8080/"
        },
        "id": "BHZOj3BfjwQ3",
        "outputId": "e13d16ec-32cc-431c-8c94-464d90bf6efd"
      },
      "execution_count": null,
      "outputs": [
        {
          "output_type": "stream",
          "name": "stdout",
          "text": [
            "4.0\n",
            "[6.5 4.5 3. ]\n",
            "[7. 2.]\n"
          ]
        }
      ]
    },
    {
      "cell_type": "markdown",
      "source": [
        "any() # true가 하나라도 존재하는지"
      ],
      "metadata": {
        "id": "9U19VNx8fvuk"
      }
    },
    {
      "cell_type": "code",
      "source": [
        "a3= np.array([[False,False,False],\n",
        "              [True,True,True],\n",
        "              [False,True,True]])\n",
        "print(np.any(a3))\n",
        "print(np.any(a3,axis=0))\n",
        "print(np.any(a3,axis=1))\n",
        "\n"
      ],
      "metadata": {
        "colab": {
          "base_uri": "https://localhost:8080/"
        },
        "id": "UnaW4rukfv0I",
        "outputId": "56cd6032-31e1-4ceb-cdd7-5f9f43d657c2"
      },
      "execution_count": null,
      "outputs": [
        {
          "output_type": "stream",
          "name": "stdout",
          "text": [
            "True\n",
            "[ True  True  True]\n",
            "[False  True  True]\n"
          ]
        }
      ]
    },
    {
      "cell_type": "markdown",
      "source": [
        "all() 모든 값이 true여야함"
      ],
      "metadata": {
        "id": "GFu4N_rPfv4h"
      }
    },
    {
      "cell_type": "code",
      "source": [
        "print(np.all(a3))\n",
        "print(np.all(a3,axis=0))\n",
        "print(np.all(a3,axis=1))\n"
      ],
      "metadata": {
        "colab": {
          "base_uri": "https://localhost:8080/"
        },
        "id": "0wZ-7gBifv9g",
        "outputId": "fcce66ba-701d-484f-b0bb-afe03d1e78c8"
      },
      "execution_count": null,
      "outputs": [
        {
          "output_type": "stream",
          "name": "stdout",
          "text": [
            "False\n",
            "[False False False]\n",
            "[False  True False]\n"
          ]
        }
      ]
    },
    {
      "cell_type": "markdown",
      "source": [
        "비교연산"
      ],
      "metadata": {
        "id": "0YgZHqMJlcCO"
      }
    },
    {
      "cell_type": "code",
      "source": [
        "a1= np.arange(1,10)\n",
        "print(a1)\n",
        "print(a1==5)\n",
        "print(a1!=5)\n",
        "print(a1<5)\n",
        "print(a1<=5)\n",
        "print(a1>5)\n",
        "print(a1>=5)"
      ],
      "metadata": {
        "colab": {
          "base_uri": "https://localhost:8080/"
        },
        "id": "0P6MVszclcHH",
        "outputId": "e8aed81f-18ae-498d-b8a0-277d6389f1e0"
      },
      "execution_count": null,
      "outputs": [
        {
          "output_type": "stream",
          "name": "stdout",
          "text": [
            "[1 2 3 4 5 6 7 8 9]\n",
            "[False False False False  True False False False False]\n",
            "[ True  True  True  True False  True  True  True  True]\n",
            "[ True  True  True  True False False False False False]\n",
            "[ True  True  True  True  True False False False False]\n",
            "[False False False False False  True  True  True  True]\n",
            "[False False False False  True  True  True  True  True]\n"
          ]
        }
      ]
    },
    {
      "cell_type": "markdown",
      "source": [
        "배열 정렬\n",
        "\n",
        "> np.sort(array): 정렬된 배열의 복사본 생성. 원본 배열의 변경 없움\n",
        "\n",
        "> array.sort(): 원본 배열값이 변경됨\n",
        "\n",
        "\n",
        "\n"
      ],
      "metadata": {
        "id": "q8fpV2kplcQR"
      }
    },
    {
      "cell_type": "code",
      "source": [
        "a1=np.random.randint(1,10,size=10)\n",
        "print(a1)"
      ],
      "metadata": {
        "colab": {
          "base_uri": "https://localhost:8080/"
        },
        "id": "lmTnpVyvlcWh",
        "outputId": "b92a4fd3-c9f9-487d-8203-b461d66c6964"
      },
      "execution_count": null,
      "outputs": [
        {
          "output_type": "stream",
          "name": "stdout",
          "text": [
            "[9 2 4 7 5 2 6 9 3 9]\n"
          ]
        }
      ]
    },
    {
      "cell_type": "code",
      "source": [
        "print(np.sort(a1))\n",
        "print(a1)"
      ],
      "metadata": {
        "colab": {
          "base_uri": "https://localhost:8080/"
        },
        "id": "dDhkTDP-meS8",
        "outputId": "3a40a6c7-084d-44d7-ad47-c1374ceca594"
      },
      "execution_count": null,
      "outputs": [
        {
          "output_type": "stream",
          "name": "stdout",
          "text": [
            "[2 2 3 4 5 6 7 9 9 9]\n",
            "[9 2 4 7 5 2 6 9 3 9]\n"
          ]
        }
      ]
    },
    {
      "cell_type": "code",
      "source": [
        "print(a1.sort())\n",
        "print(a1)"
      ],
      "metadata": {
        "colab": {
          "base_uri": "https://localhost:8080/"
        },
        "id": "4-0nMfrtmeVa",
        "outputId": "627d541e-eab1-414c-cad0-81eed2cfe92b"
      },
      "execution_count": null,
      "outputs": [
        {
          "output_type": "stream",
          "name": "stdout",
          "text": [
            "None\n",
            "[2 2 3 4 5 6 7 9 9 9]\n"
          ]
        }
      ]
    },
    {
      "cell_type": "markdown",
      "source": [
        "부분정렬\n",
        "\n",
        "> partition(array,k): 배열에서 k개의 작은 값을 선택하여 왼쪽에 배치\n",
        "\n",
        "> -k: k개의 큰값을 오른쪽의 배치\n",
        "\n",
        "\n",
        "\n"
      ],
      "metadata": {
        "id": "CZB0mY38lcbb"
      }
    },
    {
      "cell_type": "code",
      "source": [
        "import numpy as np\n",
        "a1= np.random.randint(1,10,size=10)\n",
        "print(a1)\n",
        "print(np.partition(a1,3))\n",
        "print(np.partition(a1,-3))"
      ],
      "metadata": {
        "colab": {
          "base_uri": "https://localhost:8080/"
        },
        "id": "MbQa-b6KlcpJ",
        "outputId": "089915f9-52ab-4e2f-a0fc-a420081deda4"
      },
      "execution_count": null,
      "outputs": [
        {
          "output_type": "stream",
          "name": "stdout",
          "text": [
            "[5 4 5 5 4 4 6 4 1 7]\n",
            "[4 1 4 4 4 5 6 5 5 7]\n",
            "[4 4 1 4 4 5 5 5 6 7]\n"
          ]
        }
      ]
    },
    {
      "cell_type": "markdown",
      "source": [
        "배열 입출력"
      ],
      "metadata": {
        "id": "1tlH8OAhnffM"
      }
    },
    {
      "cell_type": "code",
      "source": [
        "a2=np.random.randint(1,10,size=(5,5))\n",
        "print(a2)\n",
        "np.save('a',a2)"
      ],
      "metadata": {
        "colab": {
          "base_uri": "https://localhost:8080/"
        },
        "id": "IK41Fvbtnflr",
        "outputId": "df0d62f2-4f65-4192-961d-d9897bfe13ad"
      },
      "execution_count": null,
      "outputs": [
        {
          "output_type": "stream",
          "name": "stdout",
          "text": [
            "[[2 4 2 4 2]\n",
            " [1 2 6 2 4]\n",
            " [2 3 5 9 2]\n",
            " [6 8 8 9 8]\n",
            " [5 8 2 5 9]]\n"
          ]
        }
      ]
    },
    {
      "cell_type": "code",
      "source": [
        "ls"
      ],
      "metadata": {
        "colab": {
          "base_uri": "https://localhost:8080/"
        },
        "id": "sH_wRZuMnfrr",
        "outputId": "2f0cf199-b7ed-4ad5-ff35-9c00e0b088d9"
      },
      "execution_count": null,
      "outputs": [
        {
          "output_type": "stream",
          "name": "stdout",
          "text": [
            "a.npy  \u001b[0m\u001b[01;34msample_data\u001b[0m/\n"
          ]
        }
      ]
    },
    {
      "cell_type": "code",
      "source": [
        ""
      ],
      "metadata": {
        "id": "lDPOKRc1ngIh"
      },
      "execution_count": null,
      "outputs": []
    },
    {
      "cell_type": "code",
      "source": [
        ""
      ],
      "metadata": {
        "id": "ihPtbHTkngKh"
      },
      "execution_count": null,
      "outputs": []
    },
    {
      "cell_type": "code",
      "source": [
        ""
      ],
      "metadata": {
        "id": "sNIVZOwSngM-"
      },
      "execution_count": null,
      "outputs": []
    },
    {
      "cell_type": "markdown",
      "metadata": {
        "id": "xBOsZ6EThyW5"
      },
      "source": [
        "# 참고문헌\n",
        "\n",
        "* NumPy, https://numpy.org/\n",
        "* Jake VanderPlas, \"Python Data Science Handbook\", O'Reilly\n",
        "* Wes Mckinney, \"Python for Data Analysis\", O'Reilly"
      ]
    },
    {
      "cell_type": "code",
      "source": [
        ""
      ],
      "metadata": {
        "id": "fcr29BjxXvQ8"
      },
      "execution_count": null,
      "outputs": []
    },
    {
      "cell_type": "markdown",
      "source": [
        ""
      ],
      "metadata": {
        "id": "UHTxZU0lXvXg"
      }
    },
    {
      "cell_type": "markdown",
      "source": [
        ""
      ],
      "metadata": {
        "id": "avkFYthfXe7H"
      }
    }
  ],
  "metadata": {
    "colab": {
      "collapsed_sections": [],
      "name": "NumPy.ipynb",
      "provenance": [],
      "toc_visible": true,
      "include_colab_link": true
    },
    "kernelspec": {
      "display_name": "Python 3",
      "language": "python",
      "name": "python3"
    },
    "language_info": {
      "codemirror_mode": {
        "name": "ipython",
        "version": 3
      },
      "file_extension": ".py",
      "mimetype": "text/x-python",
      "name": "python",
      "nbconvert_exporter": "python",
      "pygments_lexer": "ipython3",
      "version": "3.8.8"
    }
  },
  "nbformat": 4,
  "nbformat_minor": 0
}