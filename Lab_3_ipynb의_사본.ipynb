{
  "cells": [
    {
      "cell_type": "markdown",
      "metadata": {
        "id": "view-in-github",
        "colab_type": "text"
      },
      "source": [
        "<a href=\"https://colab.research.google.com/github/river6907/ML_2022/blob/main/Lab_3_ipynb%EC%9D%98_%EC%82%AC%EB%B3%B8.ipynb\" target=\"_parent\"><img src=\"https://colab.research.google.com/assets/colab-badge.svg\" alt=\"Open In Colab\"/></a>"
      ]
    },
    {
      "cell_type": "markdown",
      "metadata": {
        "id": "qC91mF_u6o-s"
      },
      "source": [
        "# Machine Learning - Lab Session 3\n",
        "\n",
        "This material is for educational uses only. Some contents are based on the material provided by other paper/book authors and may be copyrighted by them. \n",
        "\n",
        "**Note**: certain details are missing or ambiguous on purpose, in order to test your knowledge on the related materials. However, if you really feel that something essential is missing and cannot proceed to the next step, then contact the teaching staff with clear description of your problem.\n",
        "\n",
        "### Submitting your work:\n",
        "- <font color=red>**DO NOT clear the final outputs**</font> so that TAs can grade both your code and results.\n",
        "- Commit the `.ipynb` file on your github repository and submit URL on E-Ruri"
      ]
    },
    {
      "cell_type": "code",
      "execution_count": 62,
      "metadata": {
        "id": "5bL80Gdm-7TI"
      },
      "outputs": [],
      "source": [
        "import numpy as np\n",
        "from matplotlib import pyplot as plt"
      ]
    },
    {
      "cell_type": "markdown",
      "metadata": {
        "id": "C62c6fKX98aM"
      },
      "source": [
        "## Preparing Dataset"
      ]
    },
    {
      "cell_type": "markdown",
      "metadata": {
        "id": "Pnm87-pp6o-v"
      },
      "source": [
        "### Load MNIST Data\n",
        "We temperaly use `sklearng.datasets` for load MNIST before we learning `pytorch`."
      ]
    },
    {
      "cell_type": "code",
      "execution_count": 63,
      "metadata": {
        "cellView": "both",
        "id": "JLpLa8Jt7Vu4"
      },
      "outputs": [],
      "source": [
        "from sklearn.datasets import fetch_openml\n",
        "\n",
        "X, y = fetch_openml(\"mnist_784\", version=1, return_X_y=True, as_frame=False) #784 데이터 크기\n",
        "X = X / 255.0\n",
        "y = y.astype(int)"
      ]
    },
    {
      "cell_type": "code",
      "execution_count": 64,
      "metadata": {
        "colab": {
          "base_uri": "https://localhost:8080/",
          "height": 265
        },
        "id": "pv_1sPkqByzq",
        "outputId": "e00e5415-2c56-4f07-b5cc-e35aae512239"
      },
      "outputs": [
        {
          "output_type": "display_data",
          "data": {
            "text/plain": [
              "<Figure size 432x288 with 1 Axes>"
            ],
            "image/png": "[encoded data removed]"
          },
          "metadata": {
            "needs_background": "light"
          }
        }
      ],
      "source": [
        "plt.imshow(X[0].reshape((28, 28)), cmap='gray')\n",
        "plt.show()"
      ]
    },
    {
      "cell_type": "markdown",
      "metadata": {
        "id": "L7aHrm6nGDMB"
      },
      "source": [
        "### Preprocessing\n",
        "Reformat into a shape that's more adapted to the models we're going to train:\n",
        "1. labels as float 1-hot encodings. [hint, use [`np.eye`](https://numpy.org/devdocs/reference/generated/numpy.eye.html)] **[pts. 5]**\n",
        "2. split the data into train and test\n"
      ]
    },
    {
      "cell_type": "code",
      "execution_count": 65,
      "metadata": {
        "colab": {
          "base_uri": "https://localhost:8080/"
        },
        "id": "G7TnyPMF_CuM",
        "outputId": "86f1dadb-14c1-443f-c8ae-070f017823ec"
      },
      "outputs": [
        {
          "output_type": "stream",
          "name": "stdout",
          "text": [
            "before encoding: 5\n",
            "after encoding: [0. 0. 0. 0. 0. 1. 0. 0. 0. 0.]\n"
          ]
        }
      ],
      "source": [
        "# one-hot encoding\n",
        "print('before encoding: %s'% y[0])\n",
        "y = np.eye(10)[y]\n",
        "print('after encoding: %s' % y[0])"
      ]
    },
    {
      "cell_type": "code",
      "execution_count": 66,
      "metadata": {
        "cellView": "both",
        "colab": {
          "base_uri": "https://localhost:8080/"
        },
        "id": "IRSyYiIIGIzS",
        "outputId": "5f4540cc-776e-4d5e-f385-06e7f1a4dcfb"
      },
      "outputs": [
        {
          "output_type": "stream",
          "name": "stdout",
          "text": [
            "Training set (56000, 784) (56000, 10)\n",
            "Test set (14000, 784) (14000, 10)\n"
          ]
        }
      ],
      "source": [
        "from sklearn.model_selection import train_test_split\n",
        "\n",
        "# Split data into train partition and test partition\n",
        "X_train, X_test, y_train, y_test = train_test_split(\n",
        "    X, y, random_state=0, test_size=0.2)\n",
        "\n",
        "IMAGE_SIZE = 28\n",
        "NUM_LABELS = 10\n",
        "\n",
        "print('Training set', X_train.shape, y_train.shape)\n",
        "print('Test set', X_test.shape, y_test.shape)"
      ]
    },
    {
      "cell_type": "markdown",
      "metadata": {
        "id": "4lw7LP8x_OWi"
      },
      "source": [
        "In this lab session, we only use partial data for training and test."
      ]
    },
    {
      "cell_type": "code",
      "execution_count": 67,
      "metadata": {
        "id": "jNaDkIi46o-y"
      },
      "outputs": [],
      "source": [
        "DATA_SIZE = 100  #data 100개씩 가져온다\n",
        "\n",
        "X_train = X_train[0:DATA_SIZE]\n",
        "y_train = y_train[0:DATA_SIZE]\n",
        "\n",
        "X_test = X_test[0:DATA_SIZE]\n",
        "y_test = y_test[0:DATA_SIZE]"
      ]
    },
    {
      "cell_type": "markdown",
      "metadata": {
        "id": "bu-bNfMf6o-z"
      },
      "source": [
        "## Training a Neural Networks\n"
      ]
    },
    {
      "cell_type": "markdown",
      "metadata": {
        "id": "ewBirlzP6o-1"
      },
      "source": [
        "### Activation Function\n",
        "\n",
        "First let's implement two activation function, `sigmoid` and `softmax`. Also the derivation of `sigmoid` function. **[pts. 5 per function]**\n",
        "$$\n",
        "\\begin{align}\n",
        "\\sigma(x) &=  \\frac{\\mathrm{1} }{\\mathrm{1} + e^{-x} } \\\\\n",
        "\\mathrm{softmax}(x_{i}) &= \\frac{e^{x_i}}{\\sum_j e^{x_j}} \\\\\n",
        "\\sigma'(x) &= \\sigma(x)\\sigma(1-x) \\\\\n",
        "\\end{align}\n",
        "$$"
      ]
    },
    {
      "cell_type": "code",
      "execution_count": 68,
      "metadata": {
        "id": "m_9pl55P6o-1"
      },
      "outputs": [],
      "source": [
        "def sigmoid(Z):\n",
        "    return 1 / (1 + np.exp(-Z))\n",
        "\n",
        "def softmax(Z):\n",
        "    return np.exp(Z) / np.exp(Z).sum(axis=0, keepdims=True)\n",
        "\n",
        "def sigmoid_derivative(Z):\n",
        "    s = 1 / (1 + np.exp(-Z))\n",
        "    return s * (1-s)"
      ]
    },
    {
      "cell_type": "code",
      "execution_count": 69,
      "metadata": {
        "colab": {
          "base_uri": "https://localhost:8080/"
        },
        "id": "WpeOlzYaAjVU",
        "outputId": "e3118522-561e-4b06-ba54-7638b27761de"
      },
      "outputs": [
        {
          "output_type": "stream",
          "name": "stdout",
          "text": [
            "0.52497918747894\n",
            "[0.26175419 0.50140083 0.23684498]\n",
            "0.24937604019289197\n"
          ]
        }
      ],
      "source": [
        "# test functions\n",
        "print(sigmoid(0.1))\n",
        "print(softmax([0.15, 0.8, 0.05]))\n",
        "print(sigmoid_derivative(0.1))"
      ]
    },
    {
      "cell_type": "markdown",
      "metadata": {
        "id": "dH3YKCDC6o-z"
      },
      "source": [
        "Let's now build a neural network with one input layer, one hidden layer, and one output layer. The number of nodes in the input layer is determined by the dimensionality of our data, 784. Similarly, the number of nodes in the output layer is determined by the number of classes we have, 10. The input to the network will be the pixel values of the input image and its output will be ten probabilities, ones for each class."
      ]
    },
    {
      "cell_type": "markdown",
      "metadata": {
        "id": "1B1bQjCm_xkL"
      },
      "source": [
        "![Sample network](https://drive.google.com/uc?id=1D1XuhvNokK5S5yn8V34JGvyE-XXz9rST)"
      ]
    },
    {
      "cell_type": "markdown",
      "metadata": {
        "id": "ObPwuWqv6o-z"
      },
      "source": [
        "### How our network makes predictions\n",
        "\n",
        "Our network makes predictions using *forward propagation*, which is just a bunch of matrix multiplications and the application of the activation function(s) we defined above. If $x$ is the 784-dimensional input to our network then we calculate our prediction $\\hat{y}$ (ten-dimensional) as follows:"
      ]
    },
    {
      "cell_type": "markdown",
      "metadata": {
        "id": "lJBKF3zf6o-z"
      },
      "source": [
        "$$\n",
        "\\begin{aligned}\n",
        "\\mathbf{s}_1 & = W_1\\mathbf{x} + \\mathbf{b}_1 \\\\\n",
        "\\mathbf{z}_1 & = \\mathrm{sigmoid}(\\mathbf{s}_1) \\\\\n",
        "\\mathbf{s}_2 & = W_2\\mathbf{z}_1 + \\mathbf{b}_2 \\\\\n",
        "\\mathbf{h} & = \\hat{y} = \\mathrm{softmax}(\\mathbf{s}_2)\n",
        "\\end{aligned}\n",
        "$$"
      ]
    },
    {
      "cell_type": "markdown",
      "metadata": {
        "id": "DG3J5N6A6o-0"
      },
      "source": [
        "$z_i$ is the input of layer $i$ and $a_i$ is the output of layer $i$ after applying the activation function. $W_1, b_1, W_2, b_2$ are  parameters of our network, which we need to learn from our training data. You can think of them as matrices transforming data between layers of the network. Looking at the matrix multiplications above we can figure out the dimensionality of these matrices.\n",
        "\n",
        "If we use 50 nodes for our hidden layer then $W_1 \\in \\mathbb{R}^{50\\times784}$, $b_1 \\in \\mathbb{R}^{50\\times1}$, $W_2 \\in \\mathbb{R}^{10\\times50}$, $b_2 \\in \\mathbb{R}^{10\\times1}$. Now you see why we have more parameters if we increase the size of the hidden layer.\n",
        "\n",
        "**[note]** beware of dimension of $\\mathbf{x}$"
      ]
    },
    {
      "cell_type": "code",
      "execution_count": 70,
      "metadata": {
        "id": "pVFqhiNb_prh"
      },
      "outputs": [],
      "source": [
        "layers_size = [784, 50, 10]  #크기784 히든개수50개 최종결과10개"
      ]
    },
    {
      "cell_type": "markdown",
      "metadata": {
        "id": "JDjwqr-uIXM6"
      },
      "source": [
        "Define parameters and initialize them with `np.random.rand` for W and `np.zeros` for b. **[pts. 5]**"
      ]
    },
    {
      "cell_type": "code",
      "execution_count": 71,
      "metadata": {
        "colab": {
          "base_uri": "https://localhost:8080/"
        },
        "id": "ayJva00z_oB2",
        "outputId": "8a698f10-e739-46e7-ce24-9fe451953bfe"
      },
      "outputs": [
        {
          "output_type": "stream",
          "name": "stdout",
          "text": [
            "(50, 784)\n",
            "(50, 1)\n",
            "(10, 50)\n",
            "(10, 1)\n"
          ]
        }
      ],
      "source": [
        "# initialization\n",
        "np.random.seed(1)\n",
        "\n",
        "parameters = {}\n",
        "parameters[\"W1\"] = np.random.randn(layers_size[1], layers_size[0]) / np.sqrt(layers_size[0]) #인풋과 히든 사이 히든 사이즈먼저 적어주고 다음 인풋크기\n",
        "parameters[\"b1\"] = np.zeros((layers_size[1], 1))\n",
        "\n",
        "parameters[\"W2\"] = np.random.randn(layers_size[2], layers_size[1]) / np.sqrt(layers_size[1]) #실습코드\n",
        "parameters[\"b2\"] = np.zeros((layers_size[2], 1)) #실습코드\n",
        "\n",
        "print(parameters[\"W1\"].shape)\n",
        "print(parameters[\"b1\"].shape)\n",
        "print(parameters[\"W2\"].shape)\n",
        "print(parameters[\"b2\"].shape)"
      ]
    },
    {
      "cell_type": "markdown",
      "source": [
        "Feed forward $\\mathbf{x}$ through Networks. **[pts. 10]**"
      ],
      "metadata": {
        "id": "lorKSUwDYoNZ"
      }
    },
    {
      "cell_type": "code",
      "execution_count": 72,
      "metadata": {
        "colab": {
          "base_uri": "https://localhost:8080/"
        },
        "id": "-vD-7B0fknV2",
        "outputId": "96c93503-6b4f-4871-9c2a-babbcfabb419"
      },
      "outputs": [
        {
          "output_type": "stream",
          "name": "stdout",
          "text": [
            "(50, 100)\n",
            "(10, 100)\n"
          ]
        }
      ],
      "source": [
        "# forward\n",
        "store = {}\n",
        "store['X'] = X_train.T #입력을 X로\n",
        "\n",
        "## input to hidden\n",
        "S = parameters[\"W1\"].dot(store['X']) + parameters['b1'] #실습코드\n",
        "Z = sigmoid(S)\n",
        "store[\"Z\"] = Z\n",
        "store[\"W1\"] = parameters[\"W1\"]\n",
        "store[\"S1\"] = S\n",
        "\n",
        "## hidden to output\n",
        "S = parameters[\"W2\"].dot(store['Z']) + parameters['b2'] #실습코드\n",
        "H = softmax(S) #실습코드\n",
        "store[\"H\"] = H        \n",
        "store[\"W2\"] = parameters[\"W2\"]\n",
        "store[\"S2\"] = S      \n",
        "\n",
        "print(store[\"Z\"].shape)\n",
        "print(store[\"H\"].shape)"
      ]
    },
    {
      "cell_type": "markdown",
      "metadata": {
        "id": "qtkfchpT6o-0"
      },
      "source": [
        "### Learning the Parameters\n",
        "\n",
        "Learning the parameters for our network means finding parameters ($W_1, b_1, W_2, b_2$) that minimize the error on our training data. But how do we define the error? We call the function that measures our error the *loss function*. A common choice with the softmax output is the [cross-entropy loss](https://en.wikipedia.org/wiki/Cross_entropy#Cross-entropy_error_function_and_logistic_regression). If we have $N$ training examples and $C$ classes then the loss for our prediction $\\hat{y}$ with respect to the true labels $y$ is given by:\n",
        "\n",
        "$$\n",
        "\\begin{aligned}\n",
        "L(y,\\hat{y}) = - \\frac{1}{N} \\sum_{n \\in N} \\sum_{i \\in C} y_{n,i} \\log\\hat{y}_{n,i}\n",
        "\\end{aligned}\n",
        "$$\n",
        "\n"
      ]
    },
    {
      "cell_type": "markdown",
      "metadata": {
        "id": "GIiOvIyZ6o-0"
      },
      "source": [
        "The formula looks complicated, but all it really does is sum over our training examples and add to the loss if we predicted the incorrect class. So, the further away $y$ (the correct labels) and $\\hat{y}$ (our predictions) are, the greater our loss will be. "
      ]
    },
    {
      "cell_type": "markdown",
      "metadata": {
        "id": "ldCES_Px6o-0"
      },
      "source": [
        "Remember that our goal is to find the parameters that minimize our loss function. We can use [gradient descent](http://cs231n.github.io/optimization-1/) to find its minimum. I will implement the most vanilla version of gradient descent, also called batch gradient descent with a fixed learning rate. Variations such as SGD (stochastic gradient descent) or minibatch gradient descent typically perform better in practice. So if you are serious you'll want to use one of these, and ideally you would also [decay the learning rate over time](http://cs231n.github.io/neural-networks-3/#anneal).\n",
        "\n",
        "As an input, gradient descent needs the gradients (vector of derivatives) of the loss function with respect to our parameters: $\\frac{\\partial{L}}{\\partial{W_1}}$, $\\frac{\\partial{L}}{\\partial{b_1}}$, $\\frac{\\partial{L}}{\\partial{W_2}}$, $\\frac{\\partial{L}}{\\partial{b_2}}$. To calculate these gradients we use the famous *backpropagation algorithm*, which is a way to efficiently calculate the gradients starting from the output. I won't go into detail how backpropagation works, but there are many excellent explanations ([here](http://colah.github.io/posts/2015-08-Backprop/) or [here](http://cs231n.github.io/optimization-2/)) floating around the web."
      ]
    },
    {
      "cell_type": "markdown",
      "metadata": {
        "id": "hMCgWwWb6o-0"
      },
      "source": [
        "Applying the backpropagation formula we find the following (trust me on this): **[pts. 20]**\n",
        "\n",
        "backpropagation for output layer\n",
        "$$\n",
        "\\begin{aligned}\n",
        "& \\mathbf{e} = \\hat{y} - y \\\\\n",
        "& \\delta_2 = \\mathbf{e} \\sigma'(\\mathbf{s}_2) \\\\\n",
        "& \\frac{\\partial{L}}{\\partial{W_2}} = \\mathbf{z}^T \\delta_2  \\\\\n",
        "& \\frac{\\partial{L}}{\\partial{b_2}} = \\delta_2 \\\\ \\\\\n",
        "\\end{aligned}\n",
        "$$\n",
        "\n",
        "backpropagation for hidden layer\n",
        "$$\n",
        "\\begin{aligned}\n",
        "& \\delta_1 = W_2^T\\delta_2 \\circ \\sigma'(\\mathbf{s}_1)  \\\\\n",
        "& \\frac{\\partial{L}}{\\partial{W_1}} = \\mathbf{x}^T \\delta_1\\\\\n",
        "& \\frac{\\partial{L}}{\\partial{b_1}} = \\delta_1 \\\\\n",
        "\\end{aligned}\n",
        "$$"
      ]
    },
    {
      "cell_type": "code",
      "execution_count": 73,
      "metadata": {
        "colab": {
          "base_uri": "https://localhost:8080/"
        },
        "id": "TJnCUVgepcx0",
        "outputId": "e679e75f-dd47-4773-c397-13d61db0d5a4"
      },
      "outputs": [
        {
          "output_type": "stream",
          "name": "stdout",
          "text": [
            "(50, 784)\n",
            "(50, 1)\n",
            "(10, 50)\n",
            "(10, 1)\n"
          ]
        }
      ],
      "source": [
        "n = X_train.shape[0]\n",
        "derivatives = {}\n",
        "\n",
        "# backward\n",
        "## output to hidden\n",
        "error = store['H'] - y_train.T\n",
        "deleta2 =  error * sigmoid_derivative(store['S2'])\n",
        "\n",
        "dW = deleta2.dot(store['Z'].T)\n",
        "db = np.sum(deleta2, axis=1, keepdims=True)\n",
        "\n",
        "derivatives[\"dW2\"] = dW\n",
        "derivatives[\"db2\"] = db\n",
        "\n",
        "## hidden to output\n",
        "dAPrev = store['W2'].T.dot(deleta2)\n",
        "deleta1 = dAPrev *  sigmoid_derivative(store['S1'])\n",
        "\n",
        "dW = deleta1.dot(store['X'].T)\n",
        "db = np.sum(deleta1, axis=1, keepdims=True)\n",
        "\n",
        "derivatives[\"dW1\"] = dW\n",
        "derivatives[\"db1\"] = db\n",
        "\n",
        "print(derivatives['dW1'].shape)\n",
        "print(derivatives['db1'].shape)\n",
        "print(derivatives['dW2'].shape)\n",
        "print(derivatives['db2'].shape)"
      ]
    },
    {
      "cell_type": "markdown",
      "metadata": {
        "id": "0jw22p14wap8"
      },
      "source": [
        "### Gradient Descent\n",
        "Update via gradient descent as follows: **[pts. 10]**\n",
        "$$\n",
        "\\mathbf{w} \\leftarrow \\mathbf{w} - \\eta ∇\\frac{\\partial \\varepsilon}{\\partial\\mathbf{w}}\n",
        "$$"
      ]
    },
    {
      "cell_type": "code",
      "execution_count": 74,
      "metadata": {
        "id": "hkt5YtKAu_Zd"
      },
      "outputs": [],
      "source": [
        "learning_rate = 0.01\n",
        "\n",
        "parameters[\"W2\"] = parameters['W2'] - learning_rate * derivatives['dW2']\n",
        "parameters[\"b2\"] = parameters['b2'] - learning_rate * derivatives['db2']\n",
        "\n",
        "parameters[\"W1\"] = parameters['W1'] - learning_rate * derivatives['dW1']\n",
        "parameters[\"b1\"] = parameters['b1'] - learning_rate * derivatives['db1']"
      ]
    },
    {
      "cell_type": "markdown",
      "metadata": {
        "id": "mjXVLPGE6o-0"
      },
      "source": [
        "## Implementation of Whole Code"
      ]
    },
    {
      "cell_type": "markdown",
      "metadata": {
        "id": "8pUWHI8x6o-1"
      },
      "source": [
        "Finally, here comes the function to train our Artificial Neural Network as class. Complete the code. **[pts. 30]**"
      ]
    },
    {
      "cell_type": "code",
      "execution_count": 75,
      "metadata": {
        "id": "-nIqBuT66o-1"
      },
      "outputs": [],
      "source": [
        "class ANN:\n",
        "    def __init__(self, layers_size):\n",
        "        self.layers_size = layers_size\n",
        "        self.parameters = {}\n",
        "        self.L = len(self.layers_size)\n",
        "        self.n = 0\n",
        "        self.costs = []\n",
        "        self.val_costs = []\n",
        " \n",
        "    def sigmoid(self, Z):\n",
        "        return 1 / (1+ np.exp(-Z))\n",
        " \n",
        "    def softmax(self, Z):\n",
        "        ##########################\n",
        "        return  np.exp(Z) / np.exp(Z).sum(axis=0, keepdims=True)\n",
        "\n",
        "    def sigmoid_derivative(self, Z):\n",
        "         s = 1 / (1+np.exp(-Z))\n",
        "         return s * (1 - s)\n",
        "\n",
        "    def initialize_parameters(self):\n",
        "        np.random.seed(1)\n",
        "        ########### complete the code ################\n",
        "        parameters = {}\n",
        "        parameters[\"W1\"] = np.random.randn(layers_size[1], layers_size[0]) / np.sqrt(layers_size[0])\n",
        "        parameters[\"b1\"] = np.zeros((layers_size[1], 1)) \n",
        "        parameters[\"W2\"] = np.random.randn(layers_size[2], layers_size[1]) / np.sqrt(layers_size[1])\n",
        "        parameters[\"b2\"] = np.zeros((layers_size[2], 1))\n",
        "        ##############################################\n",
        "\n",
        "    def forward(self, X):\n",
        "        store = {}\n",
        "        store['X'] = X.T\n",
        "        \n",
        "        ########### complete the code ################\n",
        "        ## input to hidden\n",
        "        S = parameters[\"W1\"].dot(store['X']) + parameters[\"b1\"]\n",
        "        Z = sigmoid(S)\n",
        "        store[\"Z\"] = Z\n",
        "        store[\"W1\"] = parameters[\"W1\"]\n",
        "        store[\"S1\"] = S\n",
        "        \n",
        "        ## hidden to output\n",
        "        S = parameters[\"W2\"].dot(store['Z']) + parameters[\"b2\"]\n",
        "        H = softmax(S)\n",
        "        store[\"H\"] = H        \n",
        "        store[\"W2\"] = parameters[\"W2\"]\n",
        "        store[\"S2\"] = S\n",
        "        ##############################################\n",
        "\n",
        "        return H, store\n",
        " \n",
        "    def backward(self, X, Y, store):\n",
        "        ########### complete the code ################\n",
        "        ## output to hidden\n",
        "        error = store['H'] - y_train.T\n",
        "        deleta2 = error * sigmoid_derivative(store['S2'])\n",
        "        \n",
        "        dW = deleta2.dot(store['Z'].T)  \n",
        "        db = np.sum(deleta2, axis=1, keepdims=True) #1을 곱해주는게 결국 sum과 같다. \n",
        "        \n",
        "        derivatives[\"dW2\"] = dW\n",
        "        derivatives[\"db2\"] = db\n",
        "        \n",
        "        ## hidden to input\n",
        "        dAPrev = store[\"W2\"].T.dot(deleta2)\n",
        "        deleta1 = dAPrev * sigmoid_derivative(store['S1'])\n",
        "        \n",
        "        dW = deleta1.dot(store['X'].T)\n",
        "        db = np.sum(deleta1, axis=1, keepdims=True)\n",
        "        \n",
        "        derivatives[\"dW1\"] = dW\n",
        "        derivatives[\"db1\"] = db\n",
        "        ##############################################\n",
        " \n",
        "        return derivatives\n",
        " \n",
        "    def fit(self, X, Y, learning_rate=0.01, n_iterations=2500):\n",
        "        np.random.seed(1)\n",
        " \n",
        "        self.n = X.shape[0]\n",
        "        self.layers_size.insert(0, X.shape[1])\n",
        "        self.initialize_parameters()\n",
        "\n",
        "        for loop in range(n_iterations):\n",
        "            H, store = self.forward(X)\n",
        "            cost = -np.mean(Y * np.log(H.T+ 1e-8))\n",
        "            derivatives = self.backward(X, Y, store)\n",
        " \n",
        "            for l in range(1, self.L + 1):\n",
        "                # gradient descent\n",
        "                ########### complete the code ################\n",
        "                learning_rate = 0.01\n",
        "                \n",
        "                parameters[\"W2\"] = parameters[\"W2\"] - learning_rate * derivatives[\"dW2\"]\n",
        "                parameters[\"b2\"] = parameters[\"b2\"] - learning_rate * derivatives[\"db2\"]\n",
        "                \n",
        "                parameters[\"W1\"] = parameters[\"W1\"] - learning_rate * derivatives[\"dW1\"]\n",
        "                parameters[\"b1\"] = parameters[\"b1\"] - learning_rate * derivatives[\"db1\"]\n",
        "\n",
        "                ##############################################\n",
        "\n",
        "            if loop % 10 == 0:\n",
        "                print(\"[%3d/%3d] Cost: %.4f\"%(loop, n_iterations, cost),\n",
        "                      \"Train Accuracy: %2.2f\"%(self.predict(X, Y)))\n",
        " \n",
        "            self.costs.append(cost)\n",
        "            H, store = self.forward(X_test)\n",
        "            val_cost = -np.mean(y_test * np.log(H.T+ 1e-8))            \n",
        "            self.val_costs.append(val_cost)\n",
        " \n",
        "    def predict(self, X, Y):\n",
        "        A, cache = self.forward(X)\n",
        "        y_hat = np.argmax(A, axis=0)\n",
        "        Y = np.argmax(Y, axis=1)\n",
        "        accuracy = (y_hat == Y).mean()\n",
        "        return accuracy * 100\n",
        " \n",
        "    def plot_cost(self):\n",
        "        plt.figure()\n",
        "        plt.plot(np.arange(len(self.costs)), self.costs)\n",
        "        plt.plot(np.arange(len(self.val_costs)), self.val_costs)\n",
        "        plt.xlabel(\"epochs\")\n",
        "        plt.ylabel(\"cost\")\n",
        "        plt.show()"
      ]
    },
    {
      "cell_type": "markdown",
      "metadata": {
        "id": "1yTl-FzF9Jqg"
      },
      "source": [
        "Build Model with 50 number of hidden units and train it.\n",
        "\n"
      ]
    },
    {
      "cell_type": "code",
      "execution_count": 76,
      "metadata": {
        "colab": {
          "base_uri": "https://localhost:8080/",
          "height": 683
        },
        "id": "_ta25z2B5Cm0",
        "outputId": "770995e9-ed77-4ef1-f5b3-140d848d4a35"
      },
      "outputs": [
        {
          "output_type": "stream",
          "name": "stdout",
          "text": [
            "[  0/200] Cost: 0.2315 Train Accuracy: 18.00\n",
            "[ 10/200] Cost: 0.1854 Train Accuracy: 69.00\n",
            "[ 20/200] Cost: 0.1483 Train Accuracy: 84.00\n",
            "[ 30/200] Cost: 0.1167 Train Accuracy: 88.00\n",
            "[ 40/200] Cost: 0.0925 Train Accuracy: 95.00\n",
            "[ 50/200] Cost: 0.0744 Train Accuracy: 97.00\n",
            "[ 60/200] Cost: 0.0607 Train Accuracy: 98.00\n",
            "[ 70/200] Cost: 0.0504 Train Accuracy: 99.00\n",
            "[ 80/200] Cost: 0.0425 Train Accuracy: 100.00\n",
            "[ 90/200] Cost: 0.0363 Train Accuracy: 100.00\n",
            "[100/200] Cost: 0.0314 Train Accuracy: 100.00\n",
            "[110/200] Cost: 0.0275 Train Accuracy: 100.00\n",
            "[120/200] Cost: 0.0244 Train Accuracy: 100.00\n",
            "[130/200] Cost: 0.0218 Train Accuracy: 100.00\n",
            "[140/200] Cost: 0.0197 Train Accuracy: 100.00\n",
            "[150/200] Cost: 0.0179 Train Accuracy: 100.00\n",
            "[160/200] Cost: 0.0164 Train Accuracy: 100.00\n",
            "[170/200] Cost: 0.0151 Train Accuracy: 100.00\n",
            "[180/200] Cost: 0.0140 Train Accuracy: 100.00\n",
            "[190/200] Cost: 0.0130 Train Accuracy: 100.00\n",
            "Train Accuracy: 100.0000\n",
            "Test Accuracy: 74.0000\n"
          ]
        },
        {
          "output_type": "display_data",
          "data": {
            "text/plain": [
              "<Figure size 432x288 with 1 Axes>"
            ],
            "image/png": "[encoded data removed]"
          },
          "metadata": {
            "needs_background": "light"
          }
        }
      ],
      "source": [
        "layers_dims = [50, 10]\n",
        "\n",
        "ann = ANN(layers_dims)\n",
        "ann.fit(X_train, y_train, learning_rate=.01, n_iterations=200)\n",
        "print(\"Train Accuracy: %.4f\" % ann.predict(X_train, y_train))\n",
        "print(\"Test Accuracy: %.4f\" % ann.predict(X_test, y_test))\n",
        "ann.plot_cost()"
      ]
    }
  ],
  "metadata": {
    "colab": {
      "collapsed_sections": [],
      "name": "Lab 3.ipynb의 사본",
      "provenance": [],
      "include_colab_link": true
    },
    "kernelspec": {
      "display_name": "Python 3 (ipykernel)",
      "language": "python",
      "name": "python3"
    },
    "language_info": {
      "codemirror_mode": {
        "name": "ipython",
        "version": 3
      },
      "file_extension": ".py",
      "mimetype": "text/x-python",
      "name": "python",
      "nbconvert_exporter": "python",
      "pygments_lexer": "ipython3",
      "version": "3.8.10"
    }
  },
  "nbformat": 4,
  "nbformat_minor": 0
}